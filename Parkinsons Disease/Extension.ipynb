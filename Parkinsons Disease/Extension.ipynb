{
 "cells": [
  {
   "cell_type": "markdown",
   "metadata": {},
   "source": [
    "The dataset used in this notebook can be downloaded on this link: https://archive.ics.uci.edu/ml/datasets/parkinsons"
   ]
  },
  {
   "cell_type": "code",
   "execution_count": 4,
   "metadata": {},
   "outputs": [],
   "source": [
    "import matplotlib.pyplot as plt\n",
    "import pandas as pd\n",
    "import numpy as np\n",
    "%matplotlib inline"
   ]
  },
  {
   "cell_type": "code",
   "execution_count": null,
   "metadata": {},
   "outputs": [],
   "source": []
  },
  {
   "cell_type": "code",
   "execution_count": 6,
   "metadata": {},
   "outputs": [],
   "source": [
    "parkinson_data = pd.read_csv(\"parkinsons_updrs.data.csv\")"
   ]
  },
  {
   "cell_type": "code",
   "execution_count": null,
   "metadata": {},
   "outputs": [],
   "source": []
  },
  {
   "cell_type": "code",
   "execution_count": 7,
   "metadata": {},
   "outputs": [
    {
     "data": {
      "text/html": [
       "<div>\n",
       "<style scoped>\n",
       "    .dataframe tbody tr th:only-of-type {\n",
       "        vertical-align: middle;\n",
       "    }\n",
       "\n",
       "    .dataframe tbody tr th {\n",
       "        vertical-align: top;\n",
       "    }\n",
       "\n",
       "    .dataframe thead th {\n",
       "        text-align: right;\n",
       "    }\n",
       "</style>\n",
       "<table border=\"1\" class=\"dataframe\">\n",
       "  <thead>\n",
       "    <tr style=\"text-align: right;\">\n",
       "      <th></th>\n",
       "      <th>subject#</th>\n",
       "      <th>age</th>\n",
       "      <th>sex</th>\n",
       "      <th>test_time</th>\n",
       "      <th>motor_UPDRS</th>\n",
       "      <th>total_UPDRS</th>\n",
       "      <th>Jitter(%)</th>\n",
       "      <th>Jitter(Abs)</th>\n",
       "      <th>Jitter:RAP</th>\n",
       "      <th>Jitter:PPQ5</th>\n",
       "      <th>...</th>\n",
       "      <th>Shimmer(dB)</th>\n",
       "      <th>Shimmer:APQ3</th>\n",
       "      <th>Shimmer:APQ5</th>\n",
       "      <th>Shimmer:APQ11</th>\n",
       "      <th>Shimmer:DDA</th>\n",
       "      <th>NHR</th>\n",
       "      <th>HNR</th>\n",
       "      <th>RPDE</th>\n",
       "      <th>DFA</th>\n",
       "      <th>PPE</th>\n",
       "    </tr>\n",
       "  </thead>\n",
       "  <tbody>\n",
       "    <tr>\n",
       "      <th>0</th>\n",
       "      <td>1</td>\n",
       "      <td>72</td>\n",
       "      <td>0</td>\n",
       "      <td>5.6431</td>\n",
       "      <td>28.199</td>\n",
       "      <td>34.398</td>\n",
       "      <td>0.00662</td>\n",
       "      <td>0.000034</td>\n",
       "      <td>0.00401</td>\n",
       "      <td>0.00317</td>\n",
       "      <td>...</td>\n",
       "      <td>0.230</td>\n",
       "      <td>0.01438</td>\n",
       "      <td>0.01309</td>\n",
       "      <td>0.01662</td>\n",
       "      <td>0.04314</td>\n",
       "      <td>0.014290</td>\n",
       "      <td>21.640</td>\n",
       "      <td>0.41888</td>\n",
       "      <td>0.54842</td>\n",
       "      <td>0.16006</td>\n",
       "    </tr>\n",
       "    <tr>\n",
       "      <th>1</th>\n",
       "      <td>1</td>\n",
       "      <td>72</td>\n",
       "      <td>0</td>\n",
       "      <td>12.6660</td>\n",
       "      <td>28.447</td>\n",
       "      <td>34.894</td>\n",
       "      <td>0.00300</td>\n",
       "      <td>0.000017</td>\n",
       "      <td>0.00132</td>\n",
       "      <td>0.00150</td>\n",
       "      <td>...</td>\n",
       "      <td>0.179</td>\n",
       "      <td>0.00994</td>\n",
       "      <td>0.01072</td>\n",
       "      <td>0.01689</td>\n",
       "      <td>0.02982</td>\n",
       "      <td>0.011112</td>\n",
       "      <td>27.183</td>\n",
       "      <td>0.43493</td>\n",
       "      <td>0.56477</td>\n",
       "      <td>0.10810</td>\n",
       "    </tr>\n",
       "    <tr>\n",
       "      <th>2</th>\n",
       "      <td>1</td>\n",
       "      <td>72</td>\n",
       "      <td>0</td>\n",
       "      <td>19.6810</td>\n",
       "      <td>28.695</td>\n",
       "      <td>35.389</td>\n",
       "      <td>0.00481</td>\n",
       "      <td>0.000025</td>\n",
       "      <td>0.00205</td>\n",
       "      <td>0.00208</td>\n",
       "      <td>...</td>\n",
       "      <td>0.181</td>\n",
       "      <td>0.00734</td>\n",
       "      <td>0.00844</td>\n",
       "      <td>0.01458</td>\n",
       "      <td>0.02202</td>\n",
       "      <td>0.020220</td>\n",
       "      <td>23.047</td>\n",
       "      <td>0.46222</td>\n",
       "      <td>0.54405</td>\n",
       "      <td>0.21014</td>\n",
       "    </tr>\n",
       "    <tr>\n",
       "      <th>3</th>\n",
       "      <td>1</td>\n",
       "      <td>72</td>\n",
       "      <td>0</td>\n",
       "      <td>25.6470</td>\n",
       "      <td>28.905</td>\n",
       "      <td>35.810</td>\n",
       "      <td>0.00528</td>\n",
       "      <td>0.000027</td>\n",
       "      <td>0.00191</td>\n",
       "      <td>0.00264</td>\n",
       "      <td>...</td>\n",
       "      <td>0.327</td>\n",
       "      <td>0.01106</td>\n",
       "      <td>0.01265</td>\n",
       "      <td>0.01963</td>\n",
       "      <td>0.03317</td>\n",
       "      <td>0.027837</td>\n",
       "      <td>24.445</td>\n",
       "      <td>0.48730</td>\n",
       "      <td>0.57794</td>\n",
       "      <td>0.33277</td>\n",
       "    </tr>\n",
       "    <tr>\n",
       "      <th>4</th>\n",
       "      <td>1</td>\n",
       "      <td>72</td>\n",
       "      <td>0</td>\n",
       "      <td>33.6420</td>\n",
       "      <td>29.187</td>\n",
       "      <td>36.375</td>\n",
       "      <td>0.00335</td>\n",
       "      <td>0.000020</td>\n",
       "      <td>0.00093</td>\n",
       "      <td>0.00130</td>\n",
       "      <td>...</td>\n",
       "      <td>0.176</td>\n",
       "      <td>0.00679</td>\n",
       "      <td>0.00929</td>\n",
       "      <td>0.01819</td>\n",
       "      <td>0.02036</td>\n",
       "      <td>0.011625</td>\n",
       "      <td>26.126</td>\n",
       "      <td>0.47188</td>\n",
       "      <td>0.56122</td>\n",
       "      <td>0.19361</td>\n",
       "    </tr>\n",
       "    <tr>\n",
       "      <th>5</th>\n",
       "      <td>1</td>\n",
       "      <td>72</td>\n",
       "      <td>0</td>\n",
       "      <td>40.6520</td>\n",
       "      <td>29.435</td>\n",
       "      <td>36.870</td>\n",
       "      <td>0.00353</td>\n",
       "      <td>0.000023</td>\n",
       "      <td>0.00119</td>\n",
       "      <td>0.00159</td>\n",
       "      <td>...</td>\n",
       "      <td>0.214</td>\n",
       "      <td>0.01006</td>\n",
       "      <td>0.01337</td>\n",
       "      <td>0.02263</td>\n",
       "      <td>0.03019</td>\n",
       "      <td>0.009438</td>\n",
       "      <td>22.946</td>\n",
       "      <td>0.53949</td>\n",
       "      <td>0.57243</td>\n",
       "      <td>0.19500</td>\n",
       "    </tr>\n",
       "    <tr>\n",
       "      <th>6</th>\n",
       "      <td>1</td>\n",
       "      <td>72</td>\n",
       "      <td>0</td>\n",
       "      <td>47.6490</td>\n",
       "      <td>29.682</td>\n",
       "      <td>37.363</td>\n",
       "      <td>0.00422</td>\n",
       "      <td>0.000024</td>\n",
       "      <td>0.00212</td>\n",
       "      <td>0.00221</td>\n",
       "      <td>...</td>\n",
       "      <td>0.445</td>\n",
       "      <td>0.02376</td>\n",
       "      <td>0.02621</td>\n",
       "      <td>0.03488</td>\n",
       "      <td>0.07128</td>\n",
       "      <td>0.013260</td>\n",
       "      <td>22.506</td>\n",
       "      <td>0.49250</td>\n",
       "      <td>0.54779</td>\n",
       "      <td>0.17563</td>\n",
       "    </tr>\n",
       "    <tr>\n",
       "      <th>7</th>\n",
       "      <td>1</td>\n",
       "      <td>72</td>\n",
       "      <td>0</td>\n",
       "      <td>54.6400</td>\n",
       "      <td>29.928</td>\n",
       "      <td>37.857</td>\n",
       "      <td>0.00476</td>\n",
       "      <td>0.000025</td>\n",
       "      <td>0.00226</td>\n",
       "      <td>0.00259</td>\n",
       "      <td>...</td>\n",
       "      <td>0.212</td>\n",
       "      <td>0.00979</td>\n",
       "      <td>0.01462</td>\n",
       "      <td>0.01911</td>\n",
       "      <td>0.02937</td>\n",
       "      <td>0.027969</td>\n",
       "      <td>22.929</td>\n",
       "      <td>0.47712</td>\n",
       "      <td>0.54234</td>\n",
       "      <td>0.23844</td>\n",
       "    </tr>\n",
       "    <tr>\n",
       "      <th>8</th>\n",
       "      <td>1</td>\n",
       "      <td>72</td>\n",
       "      <td>0</td>\n",
       "      <td>61.6690</td>\n",
       "      <td>30.177</td>\n",
       "      <td>38.353</td>\n",
       "      <td>0.00432</td>\n",
       "      <td>0.000029</td>\n",
       "      <td>0.00156</td>\n",
       "      <td>0.00207</td>\n",
       "      <td>...</td>\n",
       "      <td>0.371</td>\n",
       "      <td>0.01774</td>\n",
       "      <td>0.02134</td>\n",
       "      <td>0.03451</td>\n",
       "      <td>0.05323</td>\n",
       "      <td>0.013381</td>\n",
       "      <td>22.078</td>\n",
       "      <td>0.51563</td>\n",
       "      <td>0.61864</td>\n",
       "      <td>0.20037</td>\n",
       "    </tr>\n",
       "    <tr>\n",
       "      <th>9</th>\n",
       "      <td>1</td>\n",
       "      <td>72</td>\n",
       "      <td>0</td>\n",
       "      <td>68.6880</td>\n",
       "      <td>30.424</td>\n",
       "      <td>38.849</td>\n",
       "      <td>0.00496</td>\n",
       "      <td>0.000027</td>\n",
       "      <td>0.00258</td>\n",
       "      <td>0.00253</td>\n",
       "      <td>...</td>\n",
       "      <td>0.310</td>\n",
       "      <td>0.02030</td>\n",
       "      <td>0.01970</td>\n",
       "      <td>0.02569</td>\n",
       "      <td>0.06089</td>\n",
       "      <td>0.018021</td>\n",
       "      <td>22.606</td>\n",
       "      <td>0.50032</td>\n",
       "      <td>0.58673</td>\n",
       "      <td>0.20117</td>\n",
       "    </tr>\n",
       "  </tbody>\n",
       "</table>\n",
       "<p>10 rows × 22 columns</p>\n",
       "</div>"
      ],
      "text/plain": [
       "   subject#  age  sex  test_time  motor_UPDRS  total_UPDRS  Jitter(%)  \\\n",
       "0         1   72    0     5.6431       28.199       34.398    0.00662   \n",
       "1         1   72    0    12.6660       28.447       34.894    0.00300   \n",
       "2         1   72    0    19.6810       28.695       35.389    0.00481   \n",
       "3         1   72    0    25.6470       28.905       35.810    0.00528   \n",
       "4         1   72    0    33.6420       29.187       36.375    0.00335   \n",
       "5         1   72    0    40.6520       29.435       36.870    0.00353   \n",
       "6         1   72    0    47.6490       29.682       37.363    0.00422   \n",
       "7         1   72    0    54.6400       29.928       37.857    0.00476   \n",
       "8         1   72    0    61.6690       30.177       38.353    0.00432   \n",
       "9         1   72    0    68.6880       30.424       38.849    0.00496   \n",
       "\n",
       "   Jitter(Abs)  Jitter:RAP  Jitter:PPQ5  ...  Shimmer(dB)  Shimmer:APQ3  \\\n",
       "0     0.000034     0.00401      0.00317  ...        0.230       0.01438   \n",
       "1     0.000017     0.00132      0.00150  ...        0.179       0.00994   \n",
       "2     0.000025     0.00205      0.00208  ...        0.181       0.00734   \n",
       "3     0.000027     0.00191      0.00264  ...        0.327       0.01106   \n",
       "4     0.000020     0.00093      0.00130  ...        0.176       0.00679   \n",
       "5     0.000023     0.00119      0.00159  ...        0.214       0.01006   \n",
       "6     0.000024     0.00212      0.00221  ...        0.445       0.02376   \n",
       "7     0.000025     0.00226      0.00259  ...        0.212       0.00979   \n",
       "8     0.000029     0.00156      0.00207  ...        0.371       0.01774   \n",
       "9     0.000027     0.00258      0.00253  ...        0.310       0.02030   \n",
       "\n",
       "   Shimmer:APQ5  Shimmer:APQ11  Shimmer:DDA       NHR     HNR     RPDE  \\\n",
       "0       0.01309        0.01662      0.04314  0.014290  21.640  0.41888   \n",
       "1       0.01072        0.01689      0.02982  0.011112  27.183  0.43493   \n",
       "2       0.00844        0.01458      0.02202  0.020220  23.047  0.46222   \n",
       "3       0.01265        0.01963      0.03317  0.027837  24.445  0.48730   \n",
       "4       0.00929        0.01819      0.02036  0.011625  26.126  0.47188   \n",
       "5       0.01337        0.02263      0.03019  0.009438  22.946  0.53949   \n",
       "6       0.02621        0.03488      0.07128  0.013260  22.506  0.49250   \n",
       "7       0.01462        0.01911      0.02937  0.027969  22.929  0.47712   \n",
       "8       0.02134        0.03451      0.05323  0.013381  22.078  0.51563   \n",
       "9       0.01970        0.02569      0.06089  0.018021  22.606  0.50032   \n",
       "\n",
       "       DFA      PPE  \n",
       "0  0.54842  0.16006  \n",
       "1  0.56477  0.10810  \n",
       "2  0.54405  0.21014  \n",
       "3  0.57794  0.33277  \n",
       "4  0.56122  0.19361  \n",
       "5  0.57243  0.19500  \n",
       "6  0.54779  0.17563  \n",
       "7  0.54234  0.23844  \n",
       "8  0.61864  0.20037  \n",
       "9  0.58673  0.20117  \n",
       "\n",
       "[10 rows x 22 columns]"
      ]
     },
     "execution_count": 7,
     "metadata": {},
     "output_type": "execute_result"
    }
   ],
   "source": [
    "parkinson_data.head(10)"
   ]
  },
  {
   "cell_type": "raw",
   "metadata": {
    "collapsed": true
   },
   "source": [
    "Attribute Information:\n",
    "\n",
    "Matrix column entries (attributes): \n",
    "name - ASCII subject name and recording number \n",
    "MDVP:Fo(Hz) - Average vocal fundamental frequency \n",
    "MDVP:Fhi(Hz) - Maximum vocal fundamental frequency \n",
    "MDVP:Flo(Hz) - Minimum vocal fundamental frequency \n",
    "MDVP:Jitter(%),MDVP:Jitter(Abs),MDVP:RAP,MDVP:PPQ,Jitter:DDP - Several measures of variation in fundamental frequency \n",
    "MDVP:Shimmer,MDVP:Shimmer(dB),Shimmer:APQ3,Shimmer:APQ5,MDVP:APQ,Shimmer:DDA - Several measures of variation in amplitude \n",
    "NHR,HNR - Two measures of ratio of noise to tonal components in the voice \n",
    "status - Health status of the subject (one) - Parkinson's, (zero) - healthy \n",
    "RPDE,D2 - Two nonlinear dynamical complexity measures \n",
    "DFA - Signal fractal scaling exponent \n",
    "spread1,spread2,PPE - Three nonlinear measures of fundamental frequency variation "
   ]
  },
  {
   "cell_type": "markdown",
   "metadata": {},
   "source": [
    "## Step 1 Data preprocessing"
   ]
  },
  {
   "cell_type": "markdown",
   "metadata": {},
   "source": [
    "Steps that we need to do with this data before doing the prediction part:\n",
    "    1. Split data to Features and labels\n",
    "    2. Scale features to the same scale\n",
    "    3. Split data into training and testing portion\n",
    "    B. Bonus will be to find what features are most 'importatnt'"
   ]
  },
  {
   "cell_type": "markdown",
   "metadata": {},
   "source": [
    "###  Step 1.1 Features vs Labels"
   ]
  },
  {
   "cell_type": "code",
   "execution_count": 8,
   "metadata": {},
   "outputs": [],
   "source": [
    "labels = parkinson_data.iloc[:, 0].values\n",
    "features = parkinson_data.iloc[:, 1:].values"
   ]
  },
  {
   "cell_type": "code",
   "execution_count": null,
   "metadata": {},
   "outputs": [],
   "source": []
  },
  {
   "cell_type": "code",
   "execution_count": 9,
   "metadata": {},
   "outputs": [
    {
     "name": "stdout",
     "output_type": "stream",
     "text": [
      "(5875, 21)\n",
      "1\n"
     ]
    }
   ],
   "source": [
    "print(features.shape)\n",
    "print(labels[0])"
   ]
  },
  {
   "cell_type": "code",
   "execution_count": null,
   "metadata": {},
   "outputs": [],
   "source": []
  },
  {
   "cell_type": "markdown",
   "metadata": {},
   "source": [
    "### Step 1.2 Scale data"
   ]
  },
  {
   "cell_type": "code",
   "execution_count": 10,
   "metadata": {},
   "outputs": [],
   "source": [
    "from sklearn.preprocessing import StandardScaler"
   ]
  },
  {
   "cell_type": "code",
   "execution_count": null,
   "metadata": {},
   "outputs": [],
   "source": []
  },
  {
   "cell_type": "code",
   "execution_count": 11,
   "metadata": {},
   "outputs": [],
   "source": [
    "scaler = StandardScaler()\n",
    "scled_features = scaler.fit_transform(features)"
   ]
  },
  {
   "cell_type": "code",
   "execution_count": null,
   "metadata": {},
   "outputs": [],
   "source": []
  },
  {
   "cell_type": "markdown",
   "metadata": {},
   "source": [
    "### Step 1.3 Splitting data into Training and test portions"
   ]
  },
  {
   "cell_type": "code",
   "execution_count": 12,
   "metadata": {},
   "outputs": [],
   "source": [
    "from sklearn.model_selection import train_test_split"
   ]
  },
  {
   "cell_type": "code",
   "execution_count": null,
   "metadata": {},
   "outputs": [],
   "source": []
  },
  {
   "cell_type": "code",
   "execution_count": 13,
   "metadata": {},
   "outputs": [],
   "source": [
    "X_train, X_test, y_train, y_test = train_test_split(scled_features, labels, test_size=0.3)"
   ]
  },
  {
   "cell_type": "code",
   "execution_count": null,
   "metadata": {},
   "outputs": [],
   "source": []
  },
  {
   "cell_type": "code",
   "execution_count": 14,
   "metadata": {},
   "outputs": [
    {
     "name": "stdout",
     "output_type": "stream",
     "text": [
      "X_train shape -- > (4112, 21)\n",
      "y_train shape -- > (4112,)\n",
      "X_test shape -- > (1763, 21)\n",
      "y_test shape -- > (1763,)\n"
     ]
    }
   ],
   "source": [
    "print(\"X_train shape -- > {}\".format(X_train.shape))\n",
    "print(\"y_train shape -- > {}\".format(y_train.shape))\n",
    "print(\"X_test shape -- > {}\".format(X_test.shape))\n",
    "print(\"y_test shape -- > {}\".format(y_test.shape))"
   ]
  },
  {
   "cell_type": "code",
   "execution_count": null,
   "metadata": {},
   "outputs": [],
   "source": []
  },
  {
   "cell_type": "markdown",
   "metadata": {},
   "source": [
    "### Step 1.B (Optional) Feature engineering (selection)"
   ]
  },
  {
   "cell_type": "code",
   "execution_count": 15,
   "metadata": {},
   "outputs": [],
   "source": [
    "from sklearn.ensemble import ExtraTreesClassifier"
   ]
  },
  {
   "cell_type": "code",
   "execution_count": null,
   "metadata": {},
   "outputs": [],
   "source": []
  },
  {
   "cell_type": "code",
   "execution_count": 16,
   "metadata": {},
   "outputs": [],
   "source": [
    "etc = ExtraTreesClassifier(n_estimators=300)"
   ]
  },
  {
   "cell_type": "code",
   "execution_count": null,
   "metadata": {},
   "outputs": [],
   "source": []
  },
  {
   "cell_type": "code",
   "execution_count": 17,
   "metadata": {},
   "outputs": [
    {
     "data": {
      "text/plain": [
       "ExtraTreesClassifier(n_estimators=300)"
      ]
     },
     "execution_count": 17,
     "metadata": {},
     "output_type": "execute_result"
    }
   ],
   "source": [
    "etc.fit(X_train, y_train)"
   ]
  },
  {
   "cell_type": "code",
   "execution_count": null,
   "metadata": {},
   "outputs": [],
   "source": []
  },
  {
   "cell_type": "code",
   "execution_count": 18,
   "metadata": {},
   "outputs": [
    {
     "name": "stdout",
     "output_type": "stream",
     "text": [
      "[0.28555257 0.055473   0.02645507 0.12194225 0.12431854 0.01705261\n",
      " 0.02906184 0.01622113 0.01763543 0.0164893  0.01896578 0.01750814\n",
      " 0.01911714 0.02053645 0.02042031 0.01824586 0.01565353 0.03242398\n",
      " 0.03101868 0.07022407 0.02568434]\n"
     ]
    }
   ],
   "source": [
    "print(etc.feature_importances_)\n",
    "indices = np.argsort(etc.feature_importances_)[::-1]"
   ]
  },
  {
   "cell_type": "code",
   "execution_count": null,
   "metadata": {},
   "outputs": [],
   "source": []
  },
  {
   "cell_type": "code",
   "execution_count": 19,
   "metadata": {},
   "outputs": [
    {
     "data": {
      "image/png": "[encoded data removed]",
      "text/plain": [
       "<Figure size 1120x800 with 1 Axes>"
      ]
     },
     "metadata": {},
     "output_type": "display_data"
    }
   ],
   "source": [
    "plt.figure(num=None, figsize=(14, 10), dpi=80, facecolor='w')\n",
    "plt.title(\"Feature importances\")\n",
    "plt.bar(range(features.shape[1]), etc.feature_importances_[indices],\n",
    "       color=\"r\", align=\"center\")\n",
    "plt.xticks(range(features.shape[1]), indices)\n",
    "plt.show()"
   ]
  },
  {
   "cell_type": "code",
   "execution_count": null,
   "metadata": {},
   "outputs": [],
   "source": []
  },
  {
   "cell_type": "markdown",
   "metadata": {},
   "source": [
    "## Step 2 Prediction"
   ]
  },
  {
   "cell_type": "markdown",
   "metadata": {},
   "source": [
    "### Step 2.1 Simple algorithms"
   ]
  },
  {
   "cell_type": "code",
   "execution_count": 20,
   "metadata": {},
   "outputs": [],
   "source": [
    "from sklearn.metrics import accuracy_score\n",
    "from sklearn.model_selection import GridSearchCV\n",
    "from sklearn.model_selection import cross_val_score"
   ]
  },
  {
   "cell_type": "code",
   "execution_count": null,
   "metadata": {},
   "outputs": [],
   "source": []
  },
  {
   "cell_type": "markdown",
   "metadata": {},
   "source": [
    "#### Step 2.1.1 KNN"
   ]
  },
  {
   "cell_type": "code",
   "execution_count": 21,
   "metadata": {},
   "outputs": [],
   "source": [
    "from sklearn.neighbors import KNeighborsClassifier"
   ]
  },
  {
   "cell_type": "code",
   "execution_count": null,
   "metadata": {},
   "outputs": [],
   "source": []
  },
  {
   "cell_type": "code",
   "execution_count": 22,
   "metadata": {},
   "outputs": [
    {
     "data": {
      "text/plain": [
       "KNeighborsClassifier()"
      ]
     },
     "execution_count": 22,
     "metadata": {},
     "output_type": "execute_result"
    }
   ],
   "source": [
    "knn = KNeighborsClassifier()\n",
    "knn.fit(X_train, y_train)"
   ]
  },
  {
   "cell_type": "code",
   "execution_count": null,
   "metadata": {},
   "outputs": [],
   "source": []
  },
  {
   "cell_type": "code",
   "execution_count": 23,
   "metadata": {},
   "outputs": [
    {
     "name": "stdout",
     "output_type": "stream",
     "text": [
      "KNN with k=5 got 90.52750992626206% accuracy on the test set.\n"
     ]
    }
   ],
   "source": [
    "print(\"KNN with k=5 got {}% accuracy on the test set.\".format(accuracy_score(y_test, knn.predict(X_test))*100))"
   ]
  },
  {
   "cell_type": "code",
   "execution_count": null,
   "metadata": {},
   "outputs": [],
   "source": []
  },
  {
   "cell_type": "markdown",
   "metadata": {},
   "source": [
    "##### Step 2.1.1.1 KNN Grid search"
   ]
  },
  {
   "cell_type": "code",
   "execution_count": 24,
   "metadata": {},
   "outputs": [],
   "source": [
    "params_dict = {'n_neighbors':[3, 5, 9, 15], 'p':[1, 2, 3], 'algorithm':['auto', 'ball_tree', 'kd_tree', 'brute']}\n",
    "gs = GridSearchCV(knn, param_grid=params_dict, verbose=10, cv=10)"
   ]
  },
  {
   "cell_type": "code",
   "execution_count": null,
   "metadata": {},
   "outputs": [],
   "source": []
  },
  {
   "cell_type": "code",
   "execution_count": 25,
   "metadata": {
    "scrolled": false
   },
   "outputs": [
    {
     "name": "stdout",
     "output_type": "stream",
     "text": [
      "Fitting 10 folds for each of 48 candidates, totalling 480 fits\n",
      "[CV] algorithm=auto, n_neighbors=3, p=1 ..............................\n"
     ]
    },
    {
     "name": "stderr",
     "output_type": "stream",
     "text": [
      "[Parallel(n_jobs=1)]: Using backend SequentialBackend with 1 concurrent workers.\n"
     ]
    },
    {
     "name": "stdout",
     "output_type": "stream",
     "text": [
      "[CV] .. algorithm=auto, n_neighbors=3, p=1, score=0.925, total=   0.4s\n",
      "[CV] algorithm=auto, n_neighbors=3, p=1 ..............................\n"
     ]
    },
    {
     "name": "stderr",
     "output_type": "stream",
     "text": [
      "[Parallel(n_jobs=1)]: Done   1 out of   1 | elapsed:    0.3s remaining:    0.0s\n"
     ]
    },
    {
     "name": "stdout",
     "output_type": "stream",
     "text": [
      "[CV] .. algorithm=auto, n_neighbors=3, p=1, score=0.905, total=   0.4s\n",
      "[CV] algorithm=auto, n_neighbors=3, p=1 ..............................\n"
     ]
    },
    {
     "name": "stderr",
     "output_type": "stream",
     "text": [
      "[Parallel(n_jobs=1)]: Done   2 out of   2 | elapsed:    0.7s remaining:    0.0s\n"
     ]
    },
    {
     "name": "stdout",
     "output_type": "stream",
     "text": [
      "[CV] .. algorithm=auto, n_neighbors=3, p=1, score=0.939, total=   0.3s\n",
      "[CV] algorithm=auto, n_neighbors=3, p=1 ..............................\n"
     ]
    },
    {
     "name": "stderr",
     "output_type": "stream",
     "text": [
      "[Parallel(n_jobs=1)]: Done   3 out of   3 | elapsed:    0.9s remaining:    0.0s\n"
     ]
    },
    {
     "name": "stdout",
     "output_type": "stream",
     "text": [
      "[CV] .. algorithm=auto, n_neighbors=3, p=1, score=0.910, total=   0.3s\n",
      "[CV] algorithm=auto, n_neighbors=3, p=1 ..............................\n"
     ]
    },
    {
     "name": "stderr",
     "output_type": "stream",
     "text": [
      "[Parallel(n_jobs=1)]: Done   4 out of   4 | elapsed:    1.3s remaining:    0.0s\n"
     ]
    },
    {
     "name": "stdout",
     "output_type": "stream",
     "text": [
      "[CV] .. algorithm=auto, n_neighbors=3, p=1, score=0.937, total=   0.3s\n",
      "[CV] algorithm=auto, n_neighbors=3, p=1 ..............................\n"
     ]
    },
    {
     "name": "stderr",
     "output_type": "stream",
     "text": [
      "[Parallel(n_jobs=1)]: Done   5 out of   5 | elapsed:    1.6s remaining:    0.0s\n"
     ]
    },
    {
     "name": "stdout",
     "output_type": "stream",
     "text": [
      "[CV] .. algorithm=auto, n_neighbors=3, p=1, score=0.903, total=   0.3s\n",
      "[CV] algorithm=auto, n_neighbors=3, p=1 ..............................\n"
     ]
    },
    {
     "name": "stderr",
     "output_type": "stream",
     "text": [
      "[Parallel(n_jobs=1)]: Done   6 out of   6 | elapsed:    1.9s remaining:    0.0s\n"
     ]
    },
    {
     "name": "stdout",
     "output_type": "stream",
     "text": [
      "[CV] .. algorithm=auto, n_neighbors=3, p=1, score=0.917, total=   0.3s\n",
      "[CV] algorithm=auto, n_neighbors=3, p=1 ..............................\n"
     ]
    },
    {
     "name": "stderr",
     "output_type": "stream",
     "text": [
      "[Parallel(n_jobs=1)]: Done   7 out of   7 | elapsed:    2.3s remaining:    0.0s\n"
     ]
    },
    {
     "name": "stdout",
     "output_type": "stream",
     "text": [
      "[CV] .. algorithm=auto, n_neighbors=3, p=1, score=0.932, total=   0.3s\n",
      "[CV] algorithm=auto, n_neighbors=3, p=1 ..............................\n"
     ]
    },
    {
     "name": "stderr",
     "output_type": "stream",
     "text": [
      "[Parallel(n_jobs=1)]: Done   8 out of   8 | elapsed:    2.6s remaining:    0.0s\n"
     ]
    },
    {
     "name": "stdout",
     "output_type": "stream",
     "text": [
      "[CV] .. algorithm=auto, n_neighbors=3, p=1, score=0.939, total=   0.2s\n",
      "[CV] algorithm=auto, n_neighbors=3, p=1 ..............................\n"
     ]
    },
    {
     "name": "stderr",
     "output_type": "stream",
     "text": [
      "[Parallel(n_jobs=1)]: Done   9 out of   9 | elapsed:    2.8s remaining:    0.0s\n"
     ]
    },
    {
     "name": "stdout",
     "output_type": "stream",
     "text": [
      "[CV] .. algorithm=auto, n_neighbors=3, p=1, score=0.927, total=   0.3s\n",
      "[CV] algorithm=auto, n_neighbors=3, p=2 ..............................\n",
      "[CV] .. algorithm=auto, n_neighbors=3, p=2, score=0.922, total=   0.3s\n",
      "[CV] algorithm=auto, n_neighbors=3, p=2 ..............................\n",
      "[CV] .. algorithm=auto, n_neighbors=3, p=2, score=0.900, total=   0.2s\n",
      "[CV] algorithm=auto, n_neighbors=3, p=2 ..............................\n",
      "[CV] .. algorithm=auto, n_neighbors=3, p=2, score=0.929, total=   0.2s\n",
      "[CV] algorithm=auto, n_neighbors=3, p=2 ..............................\n",
      "[CV] .. algorithm=auto, n_neighbors=3, p=2, score=0.881, total=   0.2s\n",
      "[CV] algorithm=auto, n_neighbors=3, p=2 ..............................\n",
      "[CV] .. algorithm=auto, n_neighbors=3, p=2, score=0.925, total=   0.2s\n",
      "[CV] algorithm=auto, n_neighbors=3, p=2 ..............................\n",
      "[CV] .. algorithm=auto, n_neighbors=3, p=2, score=0.908, total=   0.2s\n",
      "[CV] algorithm=auto, n_neighbors=3, p=2 ..............................\n",
      "[CV] .. algorithm=auto, n_neighbors=3, p=2, score=0.920, total=   0.2s\n",
      "[CV] algorithm=auto, n_neighbors=3, p=2 ..............................\n",
      "[CV] .. algorithm=auto, n_neighbors=3, p=2, score=0.927, total=   0.2s\n",
      "[CV] algorithm=auto, n_neighbors=3, p=2 ..............................\n",
      "[CV] .. algorithm=auto, n_neighbors=3, p=2, score=0.900, total=   0.2s\n",
      "[CV] algorithm=auto, n_neighbors=3, p=2 ..............................\n",
      "[CV] .. algorithm=auto, n_neighbors=3, p=2, score=0.912, total=   0.2s\n",
      "[CV] algorithm=auto, n_neighbors=3, p=3 ..............................\n",
      "[CV] .. algorithm=auto, n_neighbors=3, p=3, score=0.913, total=   1.1s\n",
      "[CV] algorithm=auto, n_neighbors=3, p=3 ..............................\n",
      "[CV] .. algorithm=auto, n_neighbors=3, p=3, score=0.893, total=   1.1s\n",
      "[CV] algorithm=auto, n_neighbors=3, p=3 ..............................\n",
      "[CV] .. algorithm=auto, n_neighbors=3, p=3, score=0.917, total=   1.1s\n",
      "[CV] algorithm=auto, n_neighbors=3, p=3 ..............................\n",
      "[CV] .. algorithm=auto, n_neighbors=3, p=3, score=0.886, total=   0.9s\n",
      "[CV] algorithm=auto, n_neighbors=3, p=3 ..............................\n",
      "[CV] .. algorithm=auto, n_neighbors=3, p=3, score=0.917, total=   0.7s\n",
      "[CV] algorithm=auto, n_neighbors=3, p=3 ..............................\n",
      "[CV] .. algorithm=auto, n_neighbors=3, p=3, score=0.898, total=   0.7s\n",
      "[CV] algorithm=auto, n_neighbors=3, p=3 ..............................\n",
      "[CV] .. algorithm=auto, n_neighbors=3, p=3, score=0.900, total=   0.8s\n",
      "[CV] algorithm=auto, n_neighbors=3, p=3 ..............................\n",
      "[CV] .. algorithm=auto, n_neighbors=3, p=3, score=0.900, total=   0.9s\n",
      "[CV] algorithm=auto, n_neighbors=3, p=3 ..............................\n",
      "[CV] .. algorithm=auto, n_neighbors=3, p=3, score=0.886, total=   0.8s\n",
      "[CV] algorithm=auto, n_neighbors=3, p=3 ..............................\n",
      "[CV] .. algorithm=auto, n_neighbors=3, p=3, score=0.908, total=   0.9s\n",
      "[CV] algorithm=auto, n_neighbors=5, p=1 ..............................\n",
      "[CV] .. algorithm=auto, n_neighbors=5, p=1, score=0.927, total=   0.1s\n",
      "[CV] algorithm=auto, n_neighbors=5, p=1 ..............................\n",
      "[CV] .. algorithm=auto, n_neighbors=5, p=1, score=0.898, total=   0.1s\n",
      "[CV] algorithm=auto, n_neighbors=5, p=1 ..............................\n",
      "[CV] .. algorithm=auto, n_neighbors=5, p=1, score=0.929, total=   0.1s\n",
      "[CV] algorithm=auto, n_neighbors=5, p=1 ..............................\n",
      "[CV] .. algorithm=auto, n_neighbors=5, p=1, score=0.905, total=   0.2s\n",
      "[CV] algorithm=auto, n_neighbors=5, p=1 ..............................\n",
      "[CV] .. algorithm=auto, n_neighbors=5, p=1, score=0.927, total=   0.1s\n",
      "[CV] algorithm=auto, n_neighbors=5, p=1 ..............................\n",
      "[CV] .. algorithm=auto, n_neighbors=5, p=1, score=0.891, total=   0.1s\n",
      "[CV] algorithm=auto, n_neighbors=5, p=1 ..............................\n",
      "[CV] .. algorithm=auto, n_neighbors=5, p=1, score=0.917, total=   0.1s\n",
      "[CV] algorithm=auto, n_neighbors=5, p=1 ..............................\n",
      "[CV] .. algorithm=auto, n_neighbors=5, p=1, score=0.932, total=   0.1s\n",
      "[CV] algorithm=auto, n_neighbors=5, p=1 ..............................\n",
      "[CV] .. algorithm=auto, n_neighbors=5, p=1, score=0.910, total=   0.1s\n",
      "[CV] algorithm=auto, n_neighbors=5, p=1 ..............................\n",
      "[CV] .. algorithm=auto, n_neighbors=5, p=1, score=0.932, total=   0.2s\n",
      "[CV] algorithm=auto, n_neighbors=5, p=2 ..............................\n",
      "[CV] .. algorithm=auto, n_neighbors=5, p=2, score=0.939, total=   0.1s\n",
      "[CV] algorithm=auto, n_neighbors=5, p=2 ..............................\n",
      "[CV] .. algorithm=auto, n_neighbors=5, p=2, score=0.888, total=   0.1s\n",
      "[CV] algorithm=auto, n_neighbors=5, p=2 ..............................\n",
      "[CV] .. algorithm=auto, n_neighbors=5, p=2, score=0.917, total=   0.1s\n",
      "[CV] algorithm=auto, n_neighbors=5, p=2 ..............................\n",
      "[CV] .. algorithm=auto, n_neighbors=5, p=2, score=0.898, total=   0.2s\n",
      "[CV] algorithm=auto, n_neighbors=5, p=2 ..............................\n",
      "[CV] .. algorithm=auto, n_neighbors=5, p=2, score=0.920, total=   0.1s\n",
      "[CV] algorithm=auto, n_neighbors=5, p=2 ..............................\n",
      "[CV] .. algorithm=auto, n_neighbors=5, p=2, score=0.898, total=   0.1s\n",
      "[CV] algorithm=auto, n_neighbors=5, p=2 ..............................\n",
      "[CV] .. algorithm=auto, n_neighbors=5, p=2, score=0.903, total=   0.1s\n",
      "[CV] algorithm=auto, n_neighbors=5, p=2 ..............................\n",
      "[CV] .. algorithm=auto, n_neighbors=5, p=2, score=0.917, total=   0.1s\n",
      "[CV] algorithm=auto, n_neighbors=5, p=2 ..............................\n",
      "[CV] .. algorithm=auto, n_neighbors=5, p=2, score=0.908, total=   0.1s\n",
      "[CV] algorithm=auto, n_neighbors=5, p=2 ..............................\n",
      "[CV] .. algorithm=auto, n_neighbors=5, p=2, score=0.929, total=   0.1s\n",
      "[CV] algorithm=auto, n_neighbors=5, p=3 ..............................\n",
      "[CV] .. algorithm=auto, n_neighbors=5, p=3, score=0.913, total=   0.9s\n",
      "[CV] algorithm=auto, n_neighbors=5, p=3 ..............................\n",
      "[CV] .. algorithm=auto, n_neighbors=5, p=3, score=0.888, total=   1.0s\n",
      "[CV] algorithm=auto, n_neighbors=5, p=3 ..............................\n",
      "[CV] .. algorithm=auto, n_neighbors=5, p=3, score=0.905, total=   0.9s\n",
      "[CV] algorithm=auto, n_neighbors=5, p=3 ..............................\n",
      "[CV] .. algorithm=auto, n_neighbors=5, p=3, score=0.878, total=   0.9s\n",
      "[CV] algorithm=auto, n_neighbors=5, p=3 ..............................\n",
      "[CV] .. algorithm=auto, n_neighbors=5, p=3, score=0.903, total=   0.9s\n",
      "[CV] algorithm=auto, n_neighbors=5, p=3 ..............................\n",
      "[CV] .. algorithm=auto, n_neighbors=5, p=3, score=0.883, total=   0.9s\n",
      "[CV] algorithm=auto, n_neighbors=5, p=3 ..............................\n",
      "[CV] .. algorithm=auto, n_neighbors=5, p=3, score=0.893, total=   1.0s\n",
      "[CV] algorithm=auto, n_neighbors=5, p=3 ..............................\n",
      "[CV] .. algorithm=auto, n_neighbors=5, p=3, score=0.905, total=   1.1s\n",
      "[CV] algorithm=auto, n_neighbors=5, p=3 ..............................\n",
      "[CV] .. algorithm=auto, n_neighbors=5, p=3, score=0.893, total=   1.0s\n",
      "[CV] algorithm=auto, n_neighbors=5, p=3 ..............................\n",
      "[CV] .. algorithm=auto, n_neighbors=5, p=3, score=0.910, total=   0.9s\n",
      "[CV] algorithm=auto, n_neighbors=9, p=1 ..............................\n",
      "[CV] .. algorithm=auto, n_neighbors=9, p=1, score=0.932, total=   0.1s\n",
      "[CV] algorithm=auto, n_neighbors=9, p=1 ..............................\n",
      "[CV] .. algorithm=auto, n_neighbors=9, p=1, score=0.888, total=   0.2s\n",
      "[CV] algorithm=auto, n_neighbors=9, p=1 ..............................\n",
      "[CV] .. algorithm=auto, n_neighbors=9, p=1, score=0.915, total=   0.2s\n",
      "[CV] algorithm=auto, n_neighbors=9, p=1 ..............................\n",
      "[CV] .. algorithm=auto, n_neighbors=9, p=1, score=0.891, total=   0.2s\n",
      "[CV] algorithm=auto, n_neighbors=9, p=1 ..............................\n",
      "[CV] .. algorithm=auto, n_neighbors=9, p=1, score=0.910, total=   0.2s\n",
      "[CV] algorithm=auto, n_neighbors=9, p=1 ..............................\n",
      "[CV] .. algorithm=auto, n_neighbors=9, p=1, score=0.898, total=   0.2s\n",
      "[CV] algorithm=auto, n_neighbors=9, p=1 ..............................\n",
      "[CV] .. algorithm=auto, n_neighbors=9, p=1, score=0.917, total=   0.1s\n",
      "[CV] algorithm=auto, n_neighbors=9, p=1 ..............................\n"
     ]
    },
    {
     "name": "stdout",
     "output_type": "stream",
     "text": [
      "[CV] .. algorithm=auto, n_neighbors=9, p=1, score=0.920, total=   0.2s\n",
      "[CV] algorithm=auto, n_neighbors=9, p=1 ..............................\n",
      "[CV] .. algorithm=auto, n_neighbors=9, p=1, score=0.912, total=   0.1s\n",
      "[CV] algorithm=auto, n_neighbors=9, p=1 ..............................\n",
      "[CV] .. algorithm=auto, n_neighbors=9, p=1, score=0.927, total=   0.2s\n",
      "[CV] algorithm=auto, n_neighbors=9, p=2 ..............................\n",
      "[CV] .. algorithm=auto, n_neighbors=9, p=2, score=0.925, total=   0.2s\n",
      "[CV] algorithm=auto, n_neighbors=9, p=2 ..............................\n",
      "[CV] .. algorithm=auto, n_neighbors=9, p=2, score=0.879, total=   0.1s\n",
      "[CV] algorithm=auto, n_neighbors=9, p=2 ..............................\n",
      "[CV] .. algorithm=auto, n_neighbors=9, p=2, score=0.908, total=   0.2s\n",
      "[CV] algorithm=auto, n_neighbors=9, p=2 ..............................\n",
      "[CV] .. algorithm=auto, n_neighbors=9, p=2, score=0.883, total=   0.1s\n",
      "[CV] algorithm=auto, n_neighbors=9, p=2 ..............................\n",
      "[CV] .. algorithm=auto, n_neighbors=9, p=2, score=0.900, total=   0.1s\n",
      "[CV] algorithm=auto, n_neighbors=9, p=2 ..............................\n",
      "[CV] .. algorithm=auto, n_neighbors=9, p=2, score=0.888, total=   0.1s\n",
      "[CV] algorithm=auto, n_neighbors=9, p=2 ..............................\n",
      "[CV] .. algorithm=auto, n_neighbors=9, p=2, score=0.908, total=   0.1s\n",
      "[CV] algorithm=auto, n_neighbors=9, p=2 ..............................\n",
      "[CV] .. algorithm=auto, n_neighbors=9, p=2, score=0.895, total=   0.1s\n",
      "[CV] algorithm=auto, n_neighbors=9, p=2 ..............................\n",
      "[CV] .. algorithm=auto, n_neighbors=9, p=2, score=0.891, total=   0.1s\n",
      "[CV] algorithm=auto, n_neighbors=9, p=2 ..............................\n",
      "[CV] .. algorithm=auto, n_neighbors=9, p=2, score=0.912, total=   0.1s\n",
      "[CV] algorithm=auto, n_neighbors=9, p=3 ..............................\n",
      "[CV] .. algorithm=auto, n_neighbors=9, p=3, score=0.905, total=   0.9s\n",
      "[CV] algorithm=auto, n_neighbors=9, p=3 ..............................\n",
      "[CV] .. algorithm=auto, n_neighbors=9, p=3, score=0.867, total=   1.0s\n",
      "[CV] algorithm=auto, n_neighbors=9, p=3 ..............................\n",
      "[CV] .. algorithm=auto, n_neighbors=9, p=3, score=0.891, total=   1.0s\n",
      "[CV] algorithm=auto, n_neighbors=9, p=3 ..............................\n",
      "[CV] .. algorithm=auto, n_neighbors=9, p=3, score=0.876, total=   1.1s\n",
      "[CV] algorithm=auto, n_neighbors=9, p=3 ..............................\n",
      "[CV] .. algorithm=auto, n_neighbors=9, p=3, score=0.891, total=   1.0s\n",
      "[CV] algorithm=auto, n_neighbors=9, p=3 ..............................\n",
      "[CV] .. algorithm=auto, n_neighbors=9, p=3, score=0.871, total=   1.0s\n",
      "[CV] algorithm=auto, n_neighbors=9, p=3 ..............................\n",
      "[CV] .. algorithm=auto, n_neighbors=9, p=3, score=0.893, total=   1.0s\n",
      "[CV] algorithm=auto, n_neighbors=9, p=3 ..............................\n",
      "[CV] .. algorithm=auto, n_neighbors=9, p=3, score=0.891, total=   1.2s\n",
      "[CV] algorithm=auto, n_neighbors=9, p=3 ..............................\n",
      "[CV] .. algorithm=auto, n_neighbors=9, p=3, score=0.869, total=   1.1s\n",
      "[CV] algorithm=auto, n_neighbors=9, p=3 ..............................\n",
      "[CV] .. algorithm=auto, n_neighbors=9, p=3, score=0.876, total=   1.1s\n",
      "[CV] algorithm=auto, n_neighbors=15, p=1 .............................\n",
      "[CV] . algorithm=auto, n_neighbors=15, p=1, score=0.920, total=   0.2s\n",
      "[CV] algorithm=auto, n_neighbors=15, p=1 .............................\n",
      "[CV] . algorithm=auto, n_neighbors=15, p=1, score=0.881, total=   0.2s\n",
      "[CV] algorithm=auto, n_neighbors=15, p=1 .............................\n",
      "[CV] . algorithm=auto, n_neighbors=15, p=1, score=0.903, total=   0.2s\n",
      "[CV] algorithm=auto, n_neighbors=15, p=1 .............................\n",
      "[CV] . algorithm=auto, n_neighbors=15, p=1, score=0.883, total=   0.2s\n",
      "[CV] algorithm=auto, n_neighbors=15, p=1 .............................\n",
      "[CV] . algorithm=auto, n_neighbors=15, p=1, score=0.912, total=   0.1s\n",
      "[CV] algorithm=auto, n_neighbors=15, p=1 .............................\n",
      "[CV] . algorithm=auto, n_neighbors=15, p=1, score=0.886, total=   0.2s\n",
      "[CV] algorithm=auto, n_neighbors=15, p=1 .............................\n",
      "[CV] . algorithm=auto, n_neighbors=15, p=1, score=0.912, total=   0.2s\n",
      "[CV] algorithm=auto, n_neighbors=15, p=1 .............................\n",
      "[CV] . algorithm=auto, n_neighbors=15, p=1, score=0.895, total=   0.1s\n",
      "[CV] algorithm=auto, n_neighbors=15, p=1 .............................\n",
      "[CV] . algorithm=auto, n_neighbors=15, p=1, score=0.903, total=   0.2s\n",
      "[CV] algorithm=auto, n_neighbors=15, p=1 .............................\n",
      "[CV] . algorithm=auto, n_neighbors=15, p=1, score=0.898, total=   0.1s\n",
      "[CV] algorithm=auto, n_neighbors=15, p=2 .............................\n",
      "[CV] . algorithm=auto, n_neighbors=15, p=2, score=0.896, total=   0.1s\n",
      "[CV] algorithm=auto, n_neighbors=15, p=2 .............................\n",
      "[CV] . algorithm=auto, n_neighbors=15, p=2, score=0.867, total=   0.1s\n",
      "[CV] algorithm=auto, n_neighbors=15, p=2 .............................\n",
      "[CV] . algorithm=auto, n_neighbors=15, p=2, score=0.893, total=   0.2s\n",
      "[CV] algorithm=auto, n_neighbors=15, p=2 .............................\n",
      "[CV] . algorithm=auto, n_neighbors=15, p=2, score=0.873, total=   0.1s\n",
      "[CV] algorithm=auto, n_neighbors=15, p=2 .............................\n",
      "[CV] . algorithm=auto, n_neighbors=15, p=2, score=0.883, total=   0.1s\n",
      "[CV] algorithm=auto, n_neighbors=15, p=2 .............................\n",
      "[CV] . algorithm=auto, n_neighbors=15, p=2, score=0.869, total=   0.1s\n",
      "[CV] algorithm=auto, n_neighbors=15, p=2 .............................\n",
      "[CV] . algorithm=auto, n_neighbors=15, p=2, score=0.893, total=   0.2s\n",
      "[CV] algorithm=auto, n_neighbors=15, p=2 .............................\n",
      "[CV] . algorithm=auto, n_neighbors=15, p=2, score=0.886, total=   0.1s\n",
      "[CV] algorithm=auto, n_neighbors=15, p=2 .............................\n",
      "[CV] . algorithm=auto, n_neighbors=15, p=2, score=0.883, total=   0.2s\n",
      "[CV] algorithm=auto, n_neighbors=15, p=2 .............................\n",
      "[CV] . algorithm=auto, n_neighbors=15, p=2, score=0.881, total=   0.1s\n",
      "[CV] algorithm=auto, n_neighbors=15, p=3 .............................\n",
      "[CV] . algorithm=auto, n_neighbors=15, p=3, score=0.881, total=   1.1s\n",
      "[CV] algorithm=auto, n_neighbors=15, p=3 .............................\n",
      "[CV] . algorithm=auto, n_neighbors=15, p=3, score=0.850, total=   1.2s\n",
      "[CV] algorithm=auto, n_neighbors=15, p=3 .............................\n",
      "[CV] . algorithm=auto, n_neighbors=15, p=3, score=0.869, total=   1.1s\n",
      "[CV] algorithm=auto, n_neighbors=15, p=3 .............................\n",
      "[CV] . algorithm=auto, n_neighbors=15, p=3, score=0.864, total=   1.2s\n",
      "[CV] algorithm=auto, n_neighbors=15, p=3 .............................\n",
      "[CV] . algorithm=auto, n_neighbors=15, p=3, score=0.864, total=   1.1s\n",
      "[CV] algorithm=auto, n_neighbors=15, p=3 .............................\n",
      "[CV] . algorithm=auto, n_neighbors=15, p=3, score=0.852, total=   1.1s\n",
      "[CV] algorithm=auto, n_neighbors=15, p=3 .............................\n",
      "[CV] . algorithm=auto, n_neighbors=15, p=3, score=0.878, total=   1.2s\n",
      "[CV] algorithm=auto, n_neighbors=15, p=3 .............................\n",
      "[CV] . algorithm=auto, n_neighbors=15, p=3, score=0.866, total=   1.2s\n",
      "[CV] algorithm=auto, n_neighbors=15, p=3 .............................\n",
      "[CV] . algorithm=auto, n_neighbors=15, p=3, score=0.864, total=   1.2s\n",
      "[CV] algorithm=auto, n_neighbors=15, p=3 .............................\n",
      "[CV] . algorithm=auto, n_neighbors=15, p=3, score=0.852, total=   1.1s\n",
      "[CV] algorithm=ball_tree, n_neighbors=3, p=1 .........................\n",
      "[CV]  algorithm=ball_tree, n_neighbors=3, p=1, score=0.925, total=   0.1s\n",
      "[CV] algorithm=ball_tree, n_neighbors=3, p=1 .........................\n",
      "[CV]  algorithm=ball_tree, n_neighbors=3, p=1, score=0.905, total=   0.1s\n",
      "[CV] algorithm=ball_tree, n_neighbors=3, p=1 .........................\n",
      "[CV]  algorithm=ball_tree, n_neighbors=3, p=1, score=0.939, total=   0.1s\n",
      "[CV] algorithm=ball_tree, n_neighbors=3, p=1 .........................\n",
      "[CV]  algorithm=ball_tree, n_neighbors=3, p=1, score=0.910, total=   0.1s\n",
      "[CV] algorithm=ball_tree, n_neighbors=3, p=1 .........................\n",
      "[CV]  algorithm=ball_tree, n_neighbors=3, p=1, score=0.937, total=   0.1s\n",
      "[CV] algorithm=ball_tree, n_neighbors=3, p=1 .........................\n"
     ]
    },
    {
     "name": "stdout",
     "output_type": "stream",
     "text": [
      "[CV]  algorithm=ball_tree, n_neighbors=3, p=1, score=0.903, total=   0.2s\n",
      "[CV] algorithm=ball_tree, n_neighbors=3, p=1 .........................\n",
      "[CV]  algorithm=ball_tree, n_neighbors=3, p=1, score=0.917, total=   0.2s\n",
      "[CV] algorithm=ball_tree, n_neighbors=3, p=1 .........................\n",
      "[CV]  algorithm=ball_tree, n_neighbors=3, p=1, score=0.932, total=   0.2s\n",
      "[CV] algorithm=ball_tree, n_neighbors=3, p=1 .........................\n",
      "[CV]  algorithm=ball_tree, n_neighbors=3, p=1, score=0.939, total=   0.2s\n",
      "[CV] algorithm=ball_tree, n_neighbors=3, p=1 .........................\n",
      "[CV]  algorithm=ball_tree, n_neighbors=3, p=1, score=0.927, total=   0.1s\n",
      "[CV] algorithm=ball_tree, n_neighbors=3, p=2 .........................\n",
      "[CV]  algorithm=ball_tree, n_neighbors=3, p=2, score=0.922, total=   0.2s\n",
      "[CV] algorithm=ball_tree, n_neighbors=3, p=2 .........................\n",
      "[CV]  algorithm=ball_tree, n_neighbors=3, p=2, score=0.900, total=   0.2s\n",
      "[CV] algorithm=ball_tree, n_neighbors=3, p=2 .........................\n",
      "[CV]  algorithm=ball_tree, n_neighbors=3, p=2, score=0.929, total=   0.1s\n",
      "[CV] algorithm=ball_tree, n_neighbors=3, p=2 .........................\n",
      "[CV]  algorithm=ball_tree, n_neighbors=3, p=2, score=0.881, total=   0.2s\n",
      "[CV] algorithm=ball_tree, n_neighbors=3, p=2 .........................\n",
      "[CV]  algorithm=ball_tree, n_neighbors=3, p=2, score=0.925, total=   0.1s\n",
      "[CV] algorithm=ball_tree, n_neighbors=3, p=2 .........................\n",
      "[CV]  algorithm=ball_tree, n_neighbors=3, p=2, score=0.908, total=   0.1s\n",
      "[CV] algorithm=ball_tree, n_neighbors=3, p=2 .........................\n",
      "[CV]  algorithm=ball_tree, n_neighbors=3, p=2, score=0.920, total=   0.1s\n",
      "[CV] algorithm=ball_tree, n_neighbors=3, p=2 .........................\n",
      "[CV]  algorithm=ball_tree, n_neighbors=3, p=2, score=0.927, total=   0.1s\n",
      "[CV] algorithm=ball_tree, n_neighbors=3, p=2 .........................\n",
      "[CV]  algorithm=ball_tree, n_neighbors=3, p=2, score=0.900, total=   0.1s\n",
      "[CV] algorithm=ball_tree, n_neighbors=3, p=2 .........................\n",
      "[CV]  algorithm=ball_tree, n_neighbors=3, p=2, score=0.912, total=   0.1s\n",
      "[CV] algorithm=ball_tree, n_neighbors=3, p=3 .........................\n",
      "[CV]  algorithm=ball_tree, n_neighbors=3, p=3, score=0.913, total=   2.5s\n",
      "[CV] algorithm=ball_tree, n_neighbors=3, p=3 .........................\n",
      "[CV]  algorithm=ball_tree, n_neighbors=3, p=3, score=0.893, total=   2.7s\n",
      "[CV] algorithm=ball_tree, n_neighbors=3, p=3 .........................\n",
      "[CV]  algorithm=ball_tree, n_neighbors=3, p=3, score=0.917, total=   2.5s\n",
      "[CV] algorithm=ball_tree, n_neighbors=3, p=3 .........................\n",
      "[CV]  algorithm=ball_tree, n_neighbors=3, p=3, score=0.886, total=   2.9s\n",
      "[CV] algorithm=ball_tree, n_neighbors=3, p=3 .........................\n",
      "[CV]  algorithm=ball_tree, n_neighbors=3, p=3, score=0.917, total=   2.5s\n",
      "[CV] algorithm=ball_tree, n_neighbors=3, p=3 .........................\n",
      "[CV]  algorithm=ball_tree, n_neighbors=3, p=3, score=0.898, total=   2.5s\n",
      "[CV] algorithm=ball_tree, n_neighbors=3, p=3 .........................\n",
      "[CV]  algorithm=ball_tree, n_neighbors=3, p=3, score=0.900, total=   2.4s\n",
      "[CV] algorithm=ball_tree, n_neighbors=3, p=3 .........................\n",
      "[CV]  algorithm=ball_tree, n_neighbors=3, p=3, score=0.900, total=   2.5s\n",
      "[CV] algorithm=ball_tree, n_neighbors=3, p=3 .........................\n",
      "[CV]  algorithm=ball_tree, n_neighbors=3, p=3, score=0.886, total=   2.6s\n",
      "[CV] algorithm=ball_tree, n_neighbors=3, p=3 .........................\n",
      "[CV]  algorithm=ball_tree, n_neighbors=3, p=3, score=0.908, total=   2.4s\n",
      "[CV] algorithm=ball_tree, n_neighbors=5, p=1 .........................\n",
      "[CV]  algorithm=ball_tree, n_neighbors=5, p=1, score=0.927, total=   0.1s\n",
      "[CV] algorithm=ball_tree, n_neighbors=5, p=1 .........................\n",
      "[CV]  algorithm=ball_tree, n_neighbors=5, p=1, score=0.898, total=   0.1s\n",
      "[CV] algorithm=ball_tree, n_neighbors=5, p=1 .........................\n",
      "[CV]  algorithm=ball_tree, n_neighbors=5, p=1, score=0.929, total=   0.1s\n",
      "[CV] algorithm=ball_tree, n_neighbors=5, p=1 .........................\n",
      "[CV]  algorithm=ball_tree, n_neighbors=5, p=1, score=0.905, total=   0.1s\n",
      "[CV] algorithm=ball_tree, n_neighbors=5, p=1 .........................\n",
      "[CV]  algorithm=ball_tree, n_neighbors=5, p=1, score=0.927, total=   0.2s\n",
      "[CV] algorithm=ball_tree, n_neighbors=5, p=1 .........................\n",
      "[CV]  algorithm=ball_tree, n_neighbors=5, p=1, score=0.891, total=   0.1s\n",
      "[CV] algorithm=ball_tree, n_neighbors=5, p=1 .........................\n",
      "[CV]  algorithm=ball_tree, n_neighbors=5, p=1, score=0.917, total=   0.1s\n",
      "[CV] algorithm=ball_tree, n_neighbors=5, p=1 .........................\n",
      "[CV]  algorithm=ball_tree, n_neighbors=5, p=1, score=0.932, total=   0.1s\n",
      "[CV] algorithm=ball_tree, n_neighbors=5, p=1 .........................\n",
      "[CV]  algorithm=ball_tree, n_neighbors=5, p=1, score=0.910, total=   0.1s\n",
      "[CV] algorithm=ball_tree, n_neighbors=5, p=1 .........................\n",
      "[CV]  algorithm=ball_tree, n_neighbors=5, p=1, score=0.932, total=   0.1s\n",
      "[CV] algorithm=ball_tree, n_neighbors=5, p=2 .........................\n",
      "[CV]  algorithm=ball_tree, n_neighbors=5, p=2, score=0.939, total=   0.1s\n",
      "[CV] algorithm=ball_tree, n_neighbors=5, p=2 .........................\n",
      "[CV]  algorithm=ball_tree, n_neighbors=5, p=2, score=0.888, total=   0.1s\n",
      "[CV] algorithm=ball_tree, n_neighbors=5, p=2 .........................\n",
      "[CV]  algorithm=ball_tree, n_neighbors=5, p=2, score=0.917, total=   0.1s\n",
      "[CV] algorithm=ball_tree, n_neighbors=5, p=2 .........................\n",
      "[CV]  algorithm=ball_tree, n_neighbors=5, p=2, score=0.898, total=   0.1s\n",
      "[CV] algorithm=ball_tree, n_neighbors=5, p=2 .........................\n",
      "[CV]  algorithm=ball_tree, n_neighbors=5, p=2, score=0.920, total=   0.1s\n",
      "[CV] algorithm=ball_tree, n_neighbors=5, p=2 .........................\n",
      "[CV]  algorithm=ball_tree, n_neighbors=5, p=2, score=0.898, total=   0.2s\n",
      "[CV] algorithm=ball_tree, n_neighbors=5, p=2 .........................\n",
      "[CV]  algorithm=ball_tree, n_neighbors=5, p=2, score=0.903, total=   0.1s\n",
      "[CV] algorithm=ball_tree, n_neighbors=5, p=2 .........................\n",
      "[CV]  algorithm=ball_tree, n_neighbors=5, p=2, score=0.917, total=   0.1s\n",
      "[CV] algorithm=ball_tree, n_neighbors=5, p=2 .........................\n",
      "[CV]  algorithm=ball_tree, n_neighbors=5, p=2, score=0.908, total=   0.1s\n",
      "[CV] algorithm=ball_tree, n_neighbors=5, p=2 .........................\n",
      "[CV]  algorithm=ball_tree, n_neighbors=5, p=2, score=0.929, total=   0.1s\n",
      "[CV] algorithm=ball_tree, n_neighbors=5, p=3 .........................\n",
      "[CV]  algorithm=ball_tree, n_neighbors=5, p=3, score=0.913, total=   2.6s\n",
      "[CV] algorithm=ball_tree, n_neighbors=5, p=3 .........................\n",
      "[CV]  algorithm=ball_tree, n_neighbors=5, p=3, score=0.888, total=   2.6s\n",
      "[CV] algorithm=ball_tree, n_neighbors=5, p=3 .........................\n",
      "[CV]  algorithm=ball_tree, n_neighbors=5, p=3, score=0.905, total=   2.9s\n",
      "[CV] algorithm=ball_tree, n_neighbors=5, p=3 .........................\n",
      "[CV]  algorithm=ball_tree, n_neighbors=5, p=3, score=0.878, total=   2.9s\n",
      "[CV] algorithm=ball_tree, n_neighbors=5, p=3 .........................\n",
      "[CV]  algorithm=ball_tree, n_neighbors=5, p=3, score=0.903, total=   2.6s\n",
      "[CV] algorithm=ball_tree, n_neighbors=5, p=3 .........................\n",
      "[CV]  algorithm=ball_tree, n_neighbors=5, p=3, score=0.883, total=   2.7s\n",
      "[CV] algorithm=ball_tree, n_neighbors=5, p=3 .........................\n",
      "[CV]  algorithm=ball_tree, n_neighbors=5, p=3, score=0.893, total=   3.1s\n",
      "[CV] algorithm=ball_tree, n_neighbors=5, p=3 .........................\n",
      "[CV]  algorithm=ball_tree, n_neighbors=5, p=3, score=0.905, total=   2.6s\n",
      "[CV] algorithm=ball_tree, n_neighbors=5, p=3 .........................\n",
      "[CV]  algorithm=ball_tree, n_neighbors=5, p=3, score=0.893, total=   2.6s\n",
      "[CV] algorithm=ball_tree, n_neighbors=5, p=3 .........................\n",
      "[CV]  algorithm=ball_tree, n_neighbors=5, p=3, score=0.910, total=   2.4s\n",
      "[CV] algorithm=ball_tree, n_neighbors=9, p=1 .........................\n",
      "[CV]  algorithm=ball_tree, n_neighbors=9, p=1, score=0.932, total=   0.1s\n",
      "[CV] algorithm=ball_tree, n_neighbors=9, p=1 .........................\n",
      "[CV]  algorithm=ball_tree, n_neighbors=9, p=1, score=0.888, total=   0.1s\n",
      "[CV] algorithm=ball_tree, n_neighbors=9, p=1 .........................\n",
      "[CV]  algorithm=ball_tree, n_neighbors=9, p=1, score=0.915, total=   0.1s\n",
      "[CV] algorithm=ball_tree, n_neighbors=9, p=1 .........................\n"
     ]
    },
    {
     "name": "stdout",
     "output_type": "stream",
     "text": [
      "[CV]  algorithm=ball_tree, n_neighbors=9, p=1, score=0.891, total=   0.1s\n",
      "[CV] algorithm=ball_tree, n_neighbors=9, p=1 .........................\n",
      "[CV]  algorithm=ball_tree, n_neighbors=9, p=1, score=0.910, total=   0.1s\n",
      "[CV] algorithm=ball_tree, n_neighbors=9, p=1 .........................\n",
      "[CV]  algorithm=ball_tree, n_neighbors=9, p=1, score=0.898, total=   0.1s\n",
      "[CV] algorithm=ball_tree, n_neighbors=9, p=1 .........................\n",
      "[CV]  algorithm=ball_tree, n_neighbors=9, p=1, score=0.917, total=   0.1s\n",
      "[CV] algorithm=ball_tree, n_neighbors=9, p=1 .........................\n",
      "[CV]  algorithm=ball_tree, n_neighbors=9, p=1, score=0.920, total=   0.1s\n",
      "[CV] algorithm=ball_tree, n_neighbors=9, p=1 .........................\n",
      "[CV]  algorithm=ball_tree, n_neighbors=9, p=1, score=0.912, total=   0.1s\n",
      "[CV] algorithm=ball_tree, n_neighbors=9, p=1 .........................\n",
      "[CV]  algorithm=ball_tree, n_neighbors=9, p=1, score=0.927, total=   0.1s\n",
      "[CV] algorithm=ball_tree, n_neighbors=9, p=2 .........................\n",
      "[CV]  algorithm=ball_tree, n_neighbors=9, p=2, score=0.925, total=   0.1s\n",
      "[CV] algorithm=ball_tree, n_neighbors=9, p=2 .........................\n",
      "[CV]  algorithm=ball_tree, n_neighbors=9, p=2, score=0.879, total=   0.1s\n",
      "[CV] algorithm=ball_tree, n_neighbors=9, p=2 .........................\n",
      "[CV]  algorithm=ball_tree, n_neighbors=9, p=2, score=0.908, total=   0.1s\n",
      "[CV] algorithm=ball_tree, n_neighbors=9, p=2 .........................\n",
      "[CV]  algorithm=ball_tree, n_neighbors=9, p=2, score=0.883, total=   0.1s\n",
      "[CV] algorithm=ball_tree, n_neighbors=9, p=2 .........................\n",
      "[CV]  algorithm=ball_tree, n_neighbors=9, p=2, score=0.900, total=   0.1s\n",
      "[CV] algorithm=ball_tree, n_neighbors=9, p=2 .........................\n",
      "[CV]  algorithm=ball_tree, n_neighbors=9, p=2, score=0.888, total=   0.1s\n",
      "[CV] algorithm=ball_tree, n_neighbors=9, p=2 .........................\n",
      "[CV]  algorithm=ball_tree, n_neighbors=9, p=2, score=0.908, total=   0.1s\n",
      "[CV] algorithm=ball_tree, n_neighbors=9, p=2 .........................\n",
      "[CV]  algorithm=ball_tree, n_neighbors=9, p=2, score=0.895, total=   0.1s\n",
      "[CV] algorithm=ball_tree, n_neighbors=9, p=2 .........................\n",
      "[CV]  algorithm=ball_tree, n_neighbors=9, p=2, score=0.891, total=   0.1s\n",
      "[CV] algorithm=ball_tree, n_neighbors=9, p=2 .........................\n",
      "[CV]  algorithm=ball_tree, n_neighbors=9, p=2, score=0.912, total=   0.1s\n",
      "[CV] algorithm=ball_tree, n_neighbors=9, p=3 .........................\n",
      "[CV]  algorithm=ball_tree, n_neighbors=9, p=3, score=0.905, total=   2.5s\n",
      "[CV] algorithm=ball_tree, n_neighbors=9, p=3 .........................\n",
      "[CV]  algorithm=ball_tree, n_neighbors=9, p=3, score=0.867, total=   2.7s\n",
      "[CV] algorithm=ball_tree, n_neighbors=9, p=3 .........................\n",
      "[CV]  algorithm=ball_tree, n_neighbors=9, p=3, score=0.891, total=   2.6s\n",
      "[CV] algorithm=ball_tree, n_neighbors=9, p=3 .........................\n",
      "[CV]  algorithm=ball_tree, n_neighbors=9, p=3, score=0.876, total=   2.6s\n",
      "[CV] algorithm=ball_tree, n_neighbors=9, p=3 .........................\n",
      "[CV]  algorithm=ball_tree, n_neighbors=9, p=3, score=0.891, total=   2.5s\n",
      "[CV] algorithm=ball_tree, n_neighbors=9, p=3 .........................\n",
      "[CV]  algorithm=ball_tree, n_neighbors=9, p=3, score=0.871, total=   2.5s\n",
      "[CV] algorithm=ball_tree, n_neighbors=9, p=3 .........................\n",
      "[CV]  algorithm=ball_tree, n_neighbors=9, p=3, score=0.893, total=   2.5s\n",
      "[CV] algorithm=ball_tree, n_neighbors=9, p=3 .........................\n",
      "[CV]  algorithm=ball_tree, n_neighbors=9, p=3, score=0.891, total=   2.5s\n",
      "[CV] algorithm=ball_tree, n_neighbors=9, p=3 .........................\n",
      "[CV]  algorithm=ball_tree, n_neighbors=9, p=3, score=0.869, total=   2.7s\n",
      "[CV] algorithm=ball_tree, n_neighbors=9, p=3 .........................\n",
      "[CV]  algorithm=ball_tree, n_neighbors=9, p=3, score=0.876, total=   2.5s\n",
      "[CV] algorithm=ball_tree, n_neighbors=15, p=1 ........................\n",
      "[CV]  algorithm=ball_tree, n_neighbors=15, p=1, score=0.920, total=   0.1s\n",
      "[CV] algorithm=ball_tree, n_neighbors=15, p=1 ........................\n",
      "[CV]  algorithm=ball_tree, n_neighbors=15, p=1, score=0.881, total=   0.1s\n",
      "[CV] algorithm=ball_tree, n_neighbors=15, p=1 ........................\n",
      "[CV]  algorithm=ball_tree, n_neighbors=15, p=1, score=0.903, total=   0.1s\n",
      "[CV] algorithm=ball_tree, n_neighbors=15, p=1 ........................\n",
      "[CV]  algorithm=ball_tree, n_neighbors=15, p=1, score=0.883, total=   0.1s\n",
      "[CV] algorithm=ball_tree, n_neighbors=15, p=1 ........................\n",
      "[CV]  algorithm=ball_tree, n_neighbors=15, p=1, score=0.912, total=   0.1s\n",
      "[CV] algorithm=ball_tree, n_neighbors=15, p=1 ........................\n",
      "[CV]  algorithm=ball_tree, n_neighbors=15, p=1, score=0.886, total=   0.2s\n",
      "[CV] algorithm=ball_tree, n_neighbors=15, p=1 ........................\n",
      "[CV]  algorithm=ball_tree, n_neighbors=15, p=1, score=0.912, total=   0.1s\n",
      "[CV] algorithm=ball_tree, n_neighbors=15, p=1 ........................\n",
      "[CV]  algorithm=ball_tree, n_neighbors=15, p=1, score=0.895, total=   0.1s\n",
      "[CV] algorithm=ball_tree, n_neighbors=15, p=1 ........................\n",
      "[CV]  algorithm=ball_tree, n_neighbors=15, p=1, score=0.903, total=   0.1s\n",
      "[CV] algorithm=ball_tree, n_neighbors=15, p=1 ........................\n",
      "[CV]  algorithm=ball_tree, n_neighbors=15, p=1, score=0.898, total=   0.2s\n",
      "[CV] algorithm=ball_tree, n_neighbors=15, p=2 ........................\n",
      "[CV]  algorithm=ball_tree, n_neighbors=15, p=2, score=0.896, total=   0.2s\n",
      "[CV] algorithm=ball_tree, n_neighbors=15, p=2 ........................\n",
      "[CV]  algorithm=ball_tree, n_neighbors=15, p=2, score=0.867, total=   0.1s\n",
      "[CV] algorithm=ball_tree, n_neighbors=15, p=2 ........................\n",
      "[CV]  algorithm=ball_tree, n_neighbors=15, p=2, score=0.893, total=   0.1s\n",
      "[CV] algorithm=ball_tree, n_neighbors=15, p=2 ........................\n",
      "[CV]  algorithm=ball_tree, n_neighbors=15, p=2, score=0.873, total=   0.2s\n",
      "[CV] algorithm=ball_tree, n_neighbors=15, p=2 ........................\n",
      "[CV]  algorithm=ball_tree, n_neighbors=15, p=2, score=0.883, total=   0.2s\n",
      "[CV] algorithm=ball_tree, n_neighbors=15, p=2 ........................\n",
      "[CV]  algorithm=ball_tree, n_neighbors=15, p=2, score=0.869, total=   0.2s\n",
      "[CV] algorithm=ball_tree, n_neighbors=15, p=2 ........................\n",
      "[CV]  algorithm=ball_tree, n_neighbors=15, p=2, score=0.893, total=   0.2s\n",
      "[CV] algorithm=ball_tree, n_neighbors=15, p=2 ........................\n",
      "[CV]  algorithm=ball_tree, n_neighbors=15, p=2, score=0.886, total=   0.2s\n",
      "[CV] algorithm=ball_tree, n_neighbors=15, p=2 ........................\n",
      "[CV]  algorithm=ball_tree, n_neighbors=15, p=2, score=0.883, total=   0.2s\n",
      "[CV] algorithm=ball_tree, n_neighbors=15, p=2 ........................\n",
      "[CV]  algorithm=ball_tree, n_neighbors=15, p=2, score=0.881, total=   0.2s\n",
      "[CV] algorithm=ball_tree, n_neighbors=15, p=3 ........................\n",
      "[CV]  algorithm=ball_tree, n_neighbors=15, p=3, score=0.881, total=   2.8s\n",
      "[CV] algorithm=ball_tree, n_neighbors=15, p=3 ........................\n",
      "[CV]  algorithm=ball_tree, n_neighbors=15, p=3, score=0.850, total=   2.6s\n",
      "[CV] algorithm=ball_tree, n_neighbors=15, p=3 ........................\n",
      "[CV]  algorithm=ball_tree, n_neighbors=15, p=3, score=0.869, total=   2.6s\n",
      "[CV] algorithm=ball_tree, n_neighbors=15, p=3 ........................\n",
      "[CV]  algorithm=ball_tree, n_neighbors=15, p=3, score=0.864, total=   2.7s\n",
      "[CV] algorithm=ball_tree, n_neighbors=15, p=3 ........................\n",
      "[CV]  algorithm=ball_tree, n_neighbors=15, p=3, score=0.864, total=   2.6s\n",
      "[CV] algorithm=ball_tree, n_neighbors=15, p=3 ........................\n",
      "[CV]  algorithm=ball_tree, n_neighbors=15, p=3, score=0.852, total=   2.8s\n",
      "[CV] algorithm=ball_tree, n_neighbors=15, p=3 ........................\n",
      "[CV]  algorithm=ball_tree, n_neighbors=15, p=3, score=0.878, total=   2.5s\n",
      "[CV] algorithm=ball_tree, n_neighbors=15, p=3 ........................\n",
      "[CV]  algorithm=ball_tree, n_neighbors=15, p=3, score=0.866, total=   2.6s\n",
      "[CV] algorithm=ball_tree, n_neighbors=15, p=3 ........................\n",
      "[CV]  algorithm=ball_tree, n_neighbors=15, p=3, score=0.864, total=   2.6s\n",
      "[CV] algorithm=ball_tree, n_neighbors=15, p=3 ........................\n",
      "[CV]  algorithm=ball_tree, n_neighbors=15, p=3, score=0.852, total=   2.9s\n",
      "[CV] algorithm=kd_tree, n_neighbors=3, p=1 ...........................\n",
      "[CV]  algorithm=kd_tree, n_neighbors=3, p=1, score=0.925, total=   0.1s\n",
      "[CV] algorithm=kd_tree, n_neighbors=3, p=1 ...........................\n"
     ]
    },
    {
     "name": "stdout",
     "output_type": "stream",
     "text": [
      "[CV]  algorithm=kd_tree, n_neighbors=3, p=1, score=0.905, total=   0.4s\n",
      "[CV] algorithm=kd_tree, n_neighbors=3, p=1 ...........................\n",
      "[CV]  algorithm=kd_tree, n_neighbors=3, p=1, score=0.939, total=   0.2s\n",
      "[CV] algorithm=kd_tree, n_neighbors=3, p=1 ...........................\n",
      "[CV]  algorithm=kd_tree, n_neighbors=3, p=1, score=0.910, total=   0.2s\n",
      "[CV] algorithm=kd_tree, n_neighbors=3, p=1 ...........................\n",
      "[CV]  algorithm=kd_tree, n_neighbors=3, p=1, score=0.937, total=   0.2s\n",
      "[CV] algorithm=kd_tree, n_neighbors=3, p=1 ...........................\n",
      "[CV]  algorithm=kd_tree, n_neighbors=3, p=1, score=0.903, total=   0.2s\n",
      "[CV] algorithm=kd_tree, n_neighbors=3, p=1 ...........................\n",
      "[CV]  algorithm=kd_tree, n_neighbors=3, p=1, score=0.917, total=   0.2s\n",
      "[CV] algorithm=kd_tree, n_neighbors=3, p=1 ...........................\n",
      "[CV]  algorithm=kd_tree, n_neighbors=3, p=1, score=0.932, total=   0.2s\n",
      "[CV] algorithm=kd_tree, n_neighbors=3, p=1 ...........................\n",
      "[CV]  algorithm=kd_tree, n_neighbors=3, p=1, score=0.939, total=   0.2s\n",
      "[CV] algorithm=kd_tree, n_neighbors=3, p=1 ...........................\n",
      "[CV]  algorithm=kd_tree, n_neighbors=3, p=1, score=0.927, total=   0.2s\n",
      "[CV] algorithm=kd_tree, n_neighbors=3, p=2 ...........................\n",
      "[CV]  algorithm=kd_tree, n_neighbors=3, p=2, score=0.922, total=   0.2s\n",
      "[CV] algorithm=kd_tree, n_neighbors=3, p=2 ...........................\n",
      "[CV]  algorithm=kd_tree, n_neighbors=3, p=2, score=0.900, total=   0.1s\n",
      "[CV] algorithm=kd_tree, n_neighbors=3, p=2 ...........................\n",
      "[CV]  algorithm=kd_tree, n_neighbors=3, p=2, score=0.929, total=   0.1s\n",
      "[CV] algorithm=kd_tree, n_neighbors=3, p=2 ...........................\n",
      "[CV]  algorithm=kd_tree, n_neighbors=3, p=2, score=0.881, total=   0.1s\n",
      "[CV] algorithm=kd_tree, n_neighbors=3, p=2 ...........................\n",
      "[CV]  algorithm=kd_tree, n_neighbors=3, p=2, score=0.925, total=   0.1s\n",
      "[CV] algorithm=kd_tree, n_neighbors=3, p=2 ...........................\n",
      "[CV]  algorithm=kd_tree, n_neighbors=3, p=2, score=0.908, total=   0.1s\n",
      "[CV] algorithm=kd_tree, n_neighbors=3, p=2 ...........................\n",
      "[CV]  algorithm=kd_tree, n_neighbors=3, p=2, score=0.920, total=   0.1s\n",
      "[CV] algorithm=kd_tree, n_neighbors=3, p=2 ...........................\n",
      "[CV]  algorithm=kd_tree, n_neighbors=3, p=2, score=0.927, total=   0.1s\n",
      "[CV] algorithm=kd_tree, n_neighbors=3, p=2 ...........................\n",
      "[CV]  algorithm=kd_tree, n_neighbors=3, p=2, score=0.900, total=   0.2s\n",
      "[CV] algorithm=kd_tree, n_neighbors=3, p=2 ...........................\n",
      "[CV]  algorithm=kd_tree, n_neighbors=3, p=2, score=0.912, total=   0.1s\n",
      "[CV] algorithm=kd_tree, n_neighbors=3, p=3 ...........................\n",
      "[CV]  algorithm=kd_tree, n_neighbors=3, p=3, score=0.913, total=   1.0s\n",
      "[CV] algorithm=kd_tree, n_neighbors=3, p=3 ...........................\n",
      "[CV]  algorithm=kd_tree, n_neighbors=3, p=3, score=0.893, total=   0.8s\n",
      "[CV] algorithm=kd_tree, n_neighbors=3, p=3 ...........................\n",
      "[CV]  algorithm=kd_tree, n_neighbors=3, p=3, score=0.917, total=   0.8s\n",
      "[CV] algorithm=kd_tree, n_neighbors=3, p=3 ...........................\n",
      "[CV]  algorithm=kd_tree, n_neighbors=3, p=3, score=0.886, total=   0.8s\n",
      "[CV] algorithm=kd_tree, n_neighbors=3, p=3 ...........................\n",
      "[CV]  algorithm=kd_tree, n_neighbors=3, p=3, score=0.917, total=   0.8s\n",
      "[CV] algorithm=kd_tree, n_neighbors=3, p=3 ...........................\n",
      "[CV]  algorithm=kd_tree, n_neighbors=3, p=3, score=0.898, total=   0.8s\n",
      "[CV] algorithm=kd_tree, n_neighbors=3, p=3 ...........................\n",
      "[CV]  algorithm=kd_tree, n_neighbors=3, p=3, score=0.900, total=   0.8s\n",
      "[CV] algorithm=kd_tree, n_neighbors=3, p=3 ...........................\n",
      "[CV]  algorithm=kd_tree, n_neighbors=3, p=3, score=0.900, total=   0.7s\n",
      "[CV] algorithm=kd_tree, n_neighbors=3, p=3 ...........................\n",
      "[CV]  algorithm=kd_tree, n_neighbors=3, p=3, score=0.886, total=   0.8s\n",
      "[CV] algorithm=kd_tree, n_neighbors=3, p=3 ...........................\n",
      "[CV]  algorithm=kd_tree, n_neighbors=3, p=3, score=0.908, total=   0.8s\n",
      "[CV] algorithm=kd_tree, n_neighbors=5, p=1 ...........................\n",
      "[CV]  algorithm=kd_tree, n_neighbors=5, p=1, score=0.927, total=   0.1s\n",
      "[CV] algorithm=kd_tree, n_neighbors=5, p=1 ...........................\n",
      "[CV]  algorithm=kd_tree, n_neighbors=5, p=1, score=0.898, total=   0.2s\n",
      "[CV] algorithm=kd_tree, n_neighbors=5, p=1 ...........................\n",
      "[CV]  algorithm=kd_tree, n_neighbors=5, p=1, score=0.929, total=   0.1s\n",
      "[CV] algorithm=kd_tree, n_neighbors=5, p=1 ...........................\n",
      "[CV]  algorithm=kd_tree, n_neighbors=5, p=1, score=0.905, total=   0.1s\n",
      "[CV] algorithm=kd_tree, n_neighbors=5, p=1 ...........................\n",
      "[CV]  algorithm=kd_tree, n_neighbors=5, p=1, score=0.927, total=   0.1s\n",
      "[CV] algorithm=kd_tree, n_neighbors=5, p=1 ...........................\n",
      "[CV]  algorithm=kd_tree, n_neighbors=5, p=1, score=0.891, total=   0.1s\n",
      "[CV] algorithm=kd_tree, n_neighbors=5, p=1 ...........................\n",
      "[CV]  algorithm=kd_tree, n_neighbors=5, p=1, score=0.917, total=   0.2s\n",
      "[CV] algorithm=kd_tree, n_neighbors=5, p=1 ...........................\n",
      "[CV]  algorithm=kd_tree, n_neighbors=5, p=1, score=0.932, total=   0.2s\n",
      "[CV] algorithm=kd_tree, n_neighbors=5, p=1 ...........................\n",
      "[CV]  algorithm=kd_tree, n_neighbors=5, p=1, score=0.910, total=   0.1s\n",
      "[CV] algorithm=kd_tree, n_neighbors=5, p=1 ...........................\n",
      "[CV]  algorithm=kd_tree, n_neighbors=5, p=1, score=0.932, total=   0.2s\n",
      "[CV] algorithm=kd_tree, n_neighbors=5, p=2 ...........................\n",
      "[CV]  algorithm=kd_tree, n_neighbors=5, p=2, score=0.939, total=   0.1s\n",
      "[CV] algorithm=kd_tree, n_neighbors=5, p=2 ...........................\n",
      "[CV]  algorithm=kd_tree, n_neighbors=5, p=2, score=0.888, total=   0.2s\n",
      "[CV] algorithm=kd_tree, n_neighbors=5, p=2 ...........................\n",
      "[CV]  algorithm=kd_tree, n_neighbors=5, p=2, score=0.917, total=   0.2s\n",
      "[CV] algorithm=kd_tree, n_neighbors=5, p=2 ...........................\n",
      "[CV]  algorithm=kd_tree, n_neighbors=5, p=2, score=0.898, total=   0.2s\n",
      "[CV] algorithm=kd_tree, n_neighbors=5, p=2 ...........................\n",
      "[CV]  algorithm=kd_tree, n_neighbors=5, p=2, score=0.920, total=   0.2s\n",
      "[CV] algorithm=kd_tree, n_neighbors=5, p=2 ...........................\n",
      "[CV]  algorithm=kd_tree, n_neighbors=5, p=2, score=0.898, total=   0.2s\n",
      "[CV] algorithm=kd_tree, n_neighbors=5, p=2 ...........................\n",
      "[CV]  algorithm=kd_tree, n_neighbors=5, p=2, score=0.903, total=   0.2s\n",
      "[CV] algorithm=kd_tree, n_neighbors=5, p=2 ...........................\n",
      "[CV]  algorithm=kd_tree, n_neighbors=5, p=2, score=0.917, total=   0.2s\n",
      "[CV] algorithm=kd_tree, n_neighbors=5, p=2 ...........................\n",
      "[CV]  algorithm=kd_tree, n_neighbors=5, p=2, score=0.908, total=   0.1s\n",
      "[CV] algorithm=kd_tree, n_neighbors=5, p=2 ...........................\n",
      "[CV]  algorithm=kd_tree, n_neighbors=5, p=2, score=0.929, total=   0.2s\n",
      "[CV] algorithm=kd_tree, n_neighbors=5, p=3 ...........................\n",
      "[CV]  algorithm=kd_tree, n_neighbors=5, p=3, score=0.913, total=   0.9s\n",
      "[CV] algorithm=kd_tree, n_neighbors=5, p=3 ...........................\n",
      "[CV]  algorithm=kd_tree, n_neighbors=5, p=3, score=0.888, total=   0.9s\n",
      "[CV] algorithm=kd_tree, n_neighbors=5, p=3 ...........................\n",
      "[CV]  algorithm=kd_tree, n_neighbors=5, p=3, score=0.905, total=   0.9s\n",
      "[CV] algorithm=kd_tree, n_neighbors=5, p=3 ...........................\n",
      "[CV]  algorithm=kd_tree, n_neighbors=5, p=3, score=0.878, total=   1.0s\n",
      "[CV] algorithm=kd_tree, n_neighbors=5, p=3 ...........................\n",
      "[CV]  algorithm=kd_tree, n_neighbors=5, p=3, score=0.903, total=   0.9s\n",
      "[CV] algorithm=kd_tree, n_neighbors=5, p=3 ...........................\n",
      "[CV]  algorithm=kd_tree, n_neighbors=5, p=3, score=0.883, total=   0.9s\n",
      "[CV] algorithm=kd_tree, n_neighbors=5, p=3 ...........................\n",
      "[CV]  algorithm=kd_tree, n_neighbors=5, p=3, score=0.893, total=   0.9s\n",
      "[CV] algorithm=kd_tree, n_neighbors=5, p=3 ...........................\n",
      "[CV]  algorithm=kd_tree, n_neighbors=5, p=3, score=0.905, total=   0.9s\n",
      "[CV] algorithm=kd_tree, n_neighbors=5, p=3 ...........................\n",
      "[CV]  algorithm=kd_tree, n_neighbors=5, p=3, score=0.893, total=   1.0s\n",
      "[CV] algorithm=kd_tree, n_neighbors=5, p=3 ...........................\n"
     ]
    },
    {
     "name": "stdout",
     "output_type": "stream",
     "text": [
      "[CV]  algorithm=kd_tree, n_neighbors=5, p=3, score=0.910, total=   1.0s\n",
      "[CV] algorithm=kd_tree, n_neighbors=9, p=1 ...........................\n",
      "[CV]  algorithm=kd_tree, n_neighbors=9, p=1, score=0.932, total=   0.1s\n",
      "[CV] algorithm=kd_tree, n_neighbors=9, p=1 ...........................\n",
      "[CV]  algorithm=kd_tree, n_neighbors=9, p=1, score=0.888, total=   0.1s\n",
      "[CV] algorithm=kd_tree, n_neighbors=9, p=1 ...........................\n",
      "[CV]  algorithm=kd_tree, n_neighbors=9, p=1, score=0.915, total=   0.1s\n",
      "[CV] algorithm=kd_tree, n_neighbors=9, p=1 ...........................\n",
      "[CV]  algorithm=kd_tree, n_neighbors=9, p=1, score=0.891, total=   0.2s\n",
      "[CV] algorithm=kd_tree, n_neighbors=9, p=1 ...........................\n",
      "[CV]  algorithm=kd_tree, n_neighbors=9, p=1, score=0.910, total=   0.1s\n",
      "[CV] algorithm=kd_tree, n_neighbors=9, p=1 ...........................\n",
      "[CV]  algorithm=kd_tree, n_neighbors=9, p=1, score=0.898, total=   0.1s\n",
      "[CV] algorithm=kd_tree, n_neighbors=9, p=1 ...........................\n",
      "[CV]  algorithm=kd_tree, n_neighbors=9, p=1, score=0.917, total=   0.1s\n",
      "[CV] algorithm=kd_tree, n_neighbors=9, p=1 ...........................\n",
      "[CV]  algorithm=kd_tree, n_neighbors=9, p=1, score=0.920, total=   0.2s\n",
      "[CV] algorithm=kd_tree, n_neighbors=9, p=1 ...........................\n",
      "[CV]  algorithm=kd_tree, n_neighbors=9, p=1, score=0.912, total=   0.1s\n",
      "[CV] algorithm=kd_tree, n_neighbors=9, p=1 ...........................\n",
      "[CV]  algorithm=kd_tree, n_neighbors=9, p=1, score=0.927, total=   0.1s\n",
      "[CV] algorithm=kd_tree, n_neighbors=9, p=2 ...........................\n",
      "[CV]  algorithm=kd_tree, n_neighbors=9, p=2, score=0.925, total=   0.1s\n",
      "[CV] algorithm=kd_tree, n_neighbors=9, p=2 ...........................\n",
      "[CV]  algorithm=kd_tree, n_neighbors=9, p=2, score=0.879, total=   0.1s\n",
      "[CV] algorithm=kd_tree, n_neighbors=9, p=2 ...........................\n",
      "[CV]  algorithm=kd_tree, n_neighbors=9, p=2, score=0.908, total=   0.1s\n",
      "[CV] algorithm=kd_tree, n_neighbors=9, p=2 ...........................\n",
      "[CV]  algorithm=kd_tree, n_neighbors=9, p=2, score=0.883, total=   0.1s\n",
      "[CV] algorithm=kd_tree, n_neighbors=9, p=2 ...........................\n",
      "[CV]  algorithm=kd_tree, n_neighbors=9, p=2, score=0.900, total=   0.1s\n",
      "[CV] algorithm=kd_tree, n_neighbors=9, p=2 ...........................\n",
      "[CV]  algorithm=kd_tree, n_neighbors=9, p=2, score=0.888, total=   0.1s\n",
      "[CV] algorithm=kd_tree, n_neighbors=9, p=2 ...........................\n",
      "[CV]  algorithm=kd_tree, n_neighbors=9, p=2, score=0.908, total=   0.1s\n",
      "[CV] algorithm=kd_tree, n_neighbors=9, p=2 ...........................\n",
      "[CV]  algorithm=kd_tree, n_neighbors=9, p=2, score=0.895, total=   0.1s\n",
      "[CV] algorithm=kd_tree, n_neighbors=9, p=2 ...........................\n",
      "[CV]  algorithm=kd_tree, n_neighbors=9, p=2, score=0.891, total=   0.2s\n",
      "[CV] algorithm=kd_tree, n_neighbors=9, p=2 ...........................\n",
      "[CV]  algorithm=kd_tree, n_neighbors=9, p=2, score=0.912, total=   0.1s\n",
      "[CV] algorithm=kd_tree, n_neighbors=9, p=3 ...........................\n",
      "[CV]  algorithm=kd_tree, n_neighbors=9, p=3, score=0.905, total=   1.2s\n",
      "[CV] algorithm=kd_tree, n_neighbors=9, p=3 ...........................\n",
      "[CV]  algorithm=kd_tree, n_neighbors=9, p=3, score=0.867, total=   1.1s\n",
      "[CV] algorithm=kd_tree, n_neighbors=9, p=3 ...........................\n",
      "[CV]  algorithm=kd_tree, n_neighbors=9, p=3, score=0.891, total=   1.2s\n",
      "[CV] algorithm=kd_tree, n_neighbors=9, p=3 ...........................\n",
      "[CV]  algorithm=kd_tree, n_neighbors=9, p=3, score=0.876, total=   1.1s\n",
      "[CV] algorithm=kd_tree, n_neighbors=9, p=3 ...........................\n",
      "[CV]  algorithm=kd_tree, n_neighbors=9, p=3, score=0.891, total=   1.3s\n",
      "[CV] algorithm=kd_tree, n_neighbors=9, p=3 ...........................\n",
      "[CV]  algorithm=kd_tree, n_neighbors=9, p=3, score=0.871, total=   1.1s\n",
      "[CV] algorithm=kd_tree, n_neighbors=9, p=3 ...........................\n",
      "[CV]  algorithm=kd_tree, n_neighbors=9, p=3, score=0.893, total=   1.1s\n",
      "[CV] algorithm=kd_tree, n_neighbors=9, p=3 ...........................\n",
      "[CV]  algorithm=kd_tree, n_neighbors=9, p=3, score=0.891, total=   1.1s\n",
      "[CV] algorithm=kd_tree, n_neighbors=9, p=3 ...........................\n",
      "[CV]  algorithm=kd_tree, n_neighbors=9, p=3, score=0.869, total=   1.1s\n",
      "[CV] algorithm=kd_tree, n_neighbors=9, p=3 ...........................\n",
      "[CV]  algorithm=kd_tree, n_neighbors=9, p=3, score=0.876, total=   1.1s\n",
      "[CV] algorithm=kd_tree, n_neighbors=15, p=1 ..........................\n",
      "[CV]  algorithm=kd_tree, n_neighbors=15, p=1, score=0.920, total=   0.1s\n",
      "[CV] algorithm=kd_tree, n_neighbors=15, p=1 ..........................\n",
      "[CV]  algorithm=kd_tree, n_neighbors=15, p=1, score=0.881, total=   0.2s\n",
      "[CV] algorithm=kd_tree, n_neighbors=15, p=1 ..........................\n",
      "[CV]  algorithm=kd_tree, n_neighbors=15, p=1, score=0.903, total=   0.1s\n",
      "[CV] algorithm=kd_tree, n_neighbors=15, p=1 ..........................\n",
      "[CV]  algorithm=kd_tree, n_neighbors=15, p=1, score=0.883, total=   0.2s\n",
      "[CV] algorithm=kd_tree, n_neighbors=15, p=1 ..........................\n",
      "[CV]  algorithm=kd_tree, n_neighbors=15, p=1, score=0.912, total=   0.1s\n",
      "[CV] algorithm=kd_tree, n_neighbors=15, p=1 ..........................\n",
      "[CV]  algorithm=kd_tree, n_neighbors=15, p=1, score=0.886, total=   0.2s\n",
      "[CV] algorithm=kd_tree, n_neighbors=15, p=1 ..........................\n",
      "[CV]  algorithm=kd_tree, n_neighbors=15, p=1, score=0.912, total=   0.1s\n",
      "[CV] algorithm=kd_tree, n_neighbors=15, p=1 ..........................\n",
      "[CV]  algorithm=kd_tree, n_neighbors=15, p=1, score=0.895, total=   0.1s\n",
      "[CV] algorithm=kd_tree, n_neighbors=15, p=1 ..........................\n",
      "[CV]  algorithm=kd_tree, n_neighbors=15, p=1, score=0.903, total=   0.1s\n",
      "[CV] algorithm=kd_tree, n_neighbors=15, p=1 ..........................\n",
      "[CV]  algorithm=kd_tree, n_neighbors=15, p=1, score=0.898, total=   0.2s\n",
      "[CV] algorithm=kd_tree, n_neighbors=15, p=2 ..........................\n",
      "[CV]  algorithm=kd_tree, n_neighbors=15, p=2, score=0.896, total=   0.1s\n",
      "[CV] algorithm=kd_tree, n_neighbors=15, p=2 ..........................\n",
      "[CV]  algorithm=kd_tree, n_neighbors=15, p=2, score=0.867, total=   0.2s\n",
      "[CV] algorithm=kd_tree, n_neighbors=15, p=2 ..........................\n",
      "[CV]  algorithm=kd_tree, n_neighbors=15, p=2, score=0.893, total=   0.2s\n",
      "[CV] algorithm=kd_tree, n_neighbors=15, p=2 ..........................\n",
      "[CV]  algorithm=kd_tree, n_neighbors=15, p=2, score=0.873, total=   0.2s\n",
      "[CV] algorithm=kd_tree, n_neighbors=15, p=2 ..........................\n",
      "[CV]  algorithm=kd_tree, n_neighbors=15, p=2, score=0.883, total=   0.2s\n",
      "[CV] algorithm=kd_tree, n_neighbors=15, p=2 ..........................\n",
      "[CV]  algorithm=kd_tree, n_neighbors=15, p=2, score=0.869, total=   0.2s\n",
      "[CV] algorithm=kd_tree, n_neighbors=15, p=2 ..........................\n",
      "[CV]  algorithm=kd_tree, n_neighbors=15, p=2, score=0.893, total=   0.1s\n",
      "[CV] algorithm=kd_tree, n_neighbors=15, p=2 ..........................\n",
      "[CV]  algorithm=kd_tree, n_neighbors=15, p=2, score=0.886, total=   0.2s\n",
      "[CV] algorithm=kd_tree, n_neighbors=15, p=2 ..........................\n",
      "[CV]  algorithm=kd_tree, n_neighbors=15, p=2, score=0.883, total=   0.1s\n",
      "[CV] algorithm=kd_tree, n_neighbors=15, p=2 ..........................\n",
      "[CV]  algorithm=kd_tree, n_neighbors=15, p=2, score=0.881, total=   0.1s\n",
      "[CV] algorithm=kd_tree, n_neighbors=15, p=3 ..........................\n",
      "[CV]  algorithm=kd_tree, n_neighbors=15, p=3, score=0.881, total=   1.4s\n",
      "[CV] algorithm=kd_tree, n_neighbors=15, p=3 ..........................\n",
      "[CV]  algorithm=kd_tree, n_neighbors=15, p=3, score=0.850, total=   1.3s\n",
      "[CV] algorithm=kd_tree, n_neighbors=15, p=3 ..........................\n",
      "[CV]  algorithm=kd_tree, n_neighbors=15, p=3, score=0.869, total=   1.3s\n",
      "[CV] algorithm=kd_tree, n_neighbors=15, p=3 ..........................\n",
      "[CV]  algorithm=kd_tree, n_neighbors=15, p=3, score=0.864, total=   1.4s\n",
      "[CV] algorithm=kd_tree, n_neighbors=15, p=3 ..........................\n",
      "[CV]  algorithm=kd_tree, n_neighbors=15, p=3, score=0.864, total=   1.2s\n",
      "[CV] algorithm=kd_tree, n_neighbors=15, p=3 ..........................\n",
      "[CV]  algorithm=kd_tree, n_neighbors=15, p=3, score=0.852, total=   1.1s\n",
      "[CV] algorithm=kd_tree, n_neighbors=15, p=3 ..........................\n",
      "[CV]  algorithm=kd_tree, n_neighbors=15, p=3, score=0.878, total=   1.2s\n",
      "[CV] algorithm=kd_tree, n_neighbors=15, p=3 ..........................\n"
     ]
    },
    {
     "name": "stdout",
     "output_type": "stream",
     "text": [
      "[CV]  algorithm=kd_tree, n_neighbors=15, p=3, score=0.866, total=   1.2s\n",
      "[CV] algorithm=kd_tree, n_neighbors=15, p=3 ..........................\n",
      "[CV]  algorithm=kd_tree, n_neighbors=15, p=3, score=0.864, total=   1.3s\n",
      "[CV] algorithm=kd_tree, n_neighbors=15, p=3 ..........................\n",
      "[CV]  algorithm=kd_tree, n_neighbors=15, p=3, score=0.852, total=   1.3s\n",
      "[CV] algorithm=brute, n_neighbors=3, p=1 .............................\n",
      "[CV] . algorithm=brute, n_neighbors=3, p=1, score=0.925, total=   0.1s\n",
      "[CV] algorithm=brute, n_neighbors=3, p=1 .............................\n",
      "[CV] . algorithm=brute, n_neighbors=3, p=1, score=0.905, total=   0.1s\n",
      "[CV] algorithm=brute, n_neighbors=3, p=1 .............................\n",
      "[CV] . algorithm=brute, n_neighbors=3, p=1, score=0.939, total=   0.1s\n",
      "[CV] algorithm=brute, n_neighbors=3, p=1 .............................\n",
      "[CV] . algorithm=brute, n_neighbors=3, p=1, score=0.910, total=   0.1s\n",
      "[CV] algorithm=brute, n_neighbors=3, p=1 .............................\n",
      "[CV] . algorithm=brute, n_neighbors=3, p=1, score=0.937, total=   0.1s\n",
      "[CV] algorithm=brute, n_neighbors=3, p=1 .............................\n",
      "[CV] . algorithm=brute, n_neighbors=3, p=1, score=0.903, total=   0.1s\n",
      "[CV] algorithm=brute, n_neighbors=3, p=1 .............................\n",
      "[CV] . algorithm=brute, n_neighbors=3, p=1, score=0.917, total=   0.1s\n",
      "[CV] algorithm=brute, n_neighbors=3, p=1 .............................\n",
      "[CV] . algorithm=brute, n_neighbors=3, p=1, score=0.932, total=   0.1s\n",
      "[CV] algorithm=brute, n_neighbors=3, p=1 .............................\n",
      "[CV] . algorithm=brute, n_neighbors=3, p=1, score=0.939, total=   0.1s\n",
      "[CV] algorithm=brute, n_neighbors=3, p=1 .............................\n",
      "[CV] . algorithm=brute, n_neighbors=3, p=1, score=0.927, total=   0.1s\n",
      "[CV] algorithm=brute, n_neighbors=3, p=2 .............................\n",
      "[CV] . algorithm=brute, n_neighbors=3, p=2, score=0.922, total=   0.9s\n",
      "[CV] algorithm=brute, n_neighbors=3, p=2 .............................\n",
      "[CV] . algorithm=brute, n_neighbors=3, p=2, score=0.900, total=   0.2s\n",
      "[CV] algorithm=brute, n_neighbors=3, p=2 .............................\n",
      "[CV] . algorithm=brute, n_neighbors=3, p=2, score=0.929, total=   0.2s\n",
      "[CV] algorithm=brute, n_neighbors=3, p=2 .............................\n",
      "[CV] . algorithm=brute, n_neighbors=3, p=2, score=0.881, total=   0.2s\n",
      "[CV] algorithm=brute, n_neighbors=3, p=2 .............................\n",
      "[CV] . algorithm=brute, n_neighbors=3, p=2, score=0.925, total=   0.3s\n",
      "[CV] algorithm=brute, n_neighbors=3, p=2 .............................\n",
      "[CV] . algorithm=brute, n_neighbors=3, p=2, score=0.908, total=   0.2s\n",
      "[CV] algorithm=brute, n_neighbors=3, p=2 .............................\n",
      "[CV] . algorithm=brute, n_neighbors=3, p=2, score=0.920, total=   0.2s\n",
      "[CV] algorithm=brute, n_neighbors=3, p=2 .............................\n",
      "[CV] . algorithm=brute, n_neighbors=3, p=2, score=0.927, total=   0.2s\n",
      "[CV] algorithm=brute, n_neighbors=3, p=2 .............................\n",
      "[CV] . algorithm=brute, n_neighbors=3, p=2, score=0.900, total=   0.2s\n",
      "[CV] algorithm=brute, n_neighbors=3, p=2 .............................\n",
      "[CV] . algorithm=brute, n_neighbors=3, p=2, score=0.912, total=   0.2s\n",
      "[CV] algorithm=brute, n_neighbors=3, p=3 .............................\n",
      "[CV] . algorithm=brute, n_neighbors=3, p=3, score=0.913, total=   4.3s\n",
      "[CV] algorithm=brute, n_neighbors=3, p=3 .............................\n",
      "[CV] . algorithm=brute, n_neighbors=3, p=3, score=0.893, total=   2.9s\n",
      "[CV] algorithm=brute, n_neighbors=3, p=3 .............................\n",
      "[CV] . algorithm=brute, n_neighbors=3, p=3, score=0.917, total=   3.0s\n",
      "[CV] algorithm=brute, n_neighbors=3, p=3 .............................\n",
      "[CV] . algorithm=brute, n_neighbors=3, p=3, score=0.886, total=   2.9s\n",
      "[CV] algorithm=brute, n_neighbors=3, p=3 .............................\n",
      "[CV] . algorithm=brute, n_neighbors=3, p=3, score=0.917, total=   2.9s\n",
      "[CV] algorithm=brute, n_neighbors=3, p=3 .............................\n",
      "[CV] . algorithm=brute, n_neighbors=3, p=3, score=0.898, total=   2.7s\n",
      "[CV] algorithm=brute, n_neighbors=3, p=3 .............................\n",
      "[CV] . algorithm=brute, n_neighbors=3, p=3, score=0.900, total=   2.8s\n",
      "[CV] algorithm=brute, n_neighbors=3, p=3 .............................\n",
      "[CV] . algorithm=brute, n_neighbors=3, p=3, score=0.900, total=   2.7s\n",
      "[CV] algorithm=brute, n_neighbors=3, p=3 .............................\n",
      "[CV] . algorithm=brute, n_neighbors=3, p=3, score=0.886, total=   2.8s\n",
      "[CV] algorithm=brute, n_neighbors=3, p=3 .............................\n",
      "[CV] . algorithm=brute, n_neighbors=3, p=3, score=0.908, total=   2.8s\n",
      "[CV] algorithm=brute, n_neighbors=5, p=1 .............................\n",
      "[CV] . algorithm=brute, n_neighbors=5, p=1, score=0.927, total=   0.1s\n",
      "[CV] algorithm=brute, n_neighbors=5, p=1 .............................\n",
      "[CV] . algorithm=brute, n_neighbors=5, p=1, score=0.898, total=   0.1s\n",
      "[CV] algorithm=brute, n_neighbors=5, p=1 .............................\n",
      "[CV] . algorithm=brute, n_neighbors=5, p=1, score=0.929, total=   0.1s\n",
      "[CV] algorithm=brute, n_neighbors=5, p=1 .............................\n",
      "[CV] . algorithm=brute, n_neighbors=5, p=1, score=0.905, total=   0.1s\n",
      "[CV] algorithm=brute, n_neighbors=5, p=1 .............................\n",
      "[CV] . algorithm=brute, n_neighbors=5, p=1, score=0.927, total=   0.1s\n",
      "[CV] algorithm=brute, n_neighbors=5, p=1 .............................\n",
      "[CV] . algorithm=brute, n_neighbors=5, p=1, score=0.891, total=   0.1s\n",
      "[CV] algorithm=brute, n_neighbors=5, p=1 .............................\n",
      "[CV] . algorithm=brute, n_neighbors=5, p=1, score=0.917, total=   0.1s\n",
      "[CV] algorithm=brute, n_neighbors=5, p=1 .............................\n",
      "[CV] . algorithm=brute, n_neighbors=5, p=1, score=0.932, total=   0.1s\n",
      "[CV] algorithm=brute, n_neighbors=5, p=1 .............................\n",
      "[CV] . algorithm=brute, n_neighbors=5, p=1, score=0.910, total=   0.1s\n",
      "[CV] algorithm=brute, n_neighbors=5, p=1 .............................\n",
      "[CV] . algorithm=brute, n_neighbors=5, p=1, score=0.932, total=   0.1s\n",
      "[CV] algorithm=brute, n_neighbors=5, p=2 .............................\n",
      "[CV] . algorithm=brute, n_neighbors=5, p=2, score=0.939, total=   0.1s\n",
      "[CV] algorithm=brute, n_neighbors=5, p=2 .............................\n",
      "[CV] . algorithm=brute, n_neighbors=5, p=2, score=0.888, total=   0.1s\n",
      "[CV] algorithm=brute, n_neighbors=5, p=2 .............................\n",
      "[CV] . algorithm=brute, n_neighbors=5, p=2, score=0.917, total=   0.1s\n",
      "[CV] algorithm=brute, n_neighbors=5, p=2 .............................\n",
      "[CV] . algorithm=brute, n_neighbors=5, p=2, score=0.898, total=   0.1s\n",
      "[CV] algorithm=brute, n_neighbors=5, p=2 .............................\n",
      "[CV] . algorithm=brute, n_neighbors=5, p=2, score=0.920, total=   0.1s\n",
      "[CV] algorithm=brute, n_neighbors=5, p=2 .............................\n",
      "[CV] . algorithm=brute, n_neighbors=5, p=2, score=0.898, total=   0.1s\n",
      "[CV] algorithm=brute, n_neighbors=5, p=2 .............................\n",
      "[CV] . algorithm=brute, n_neighbors=5, p=2, score=0.903, total=   0.1s\n",
      "[CV] algorithm=brute, n_neighbors=5, p=2 .............................\n",
      "[CV] . algorithm=brute, n_neighbors=5, p=2, score=0.917, total=   0.1s\n",
      "[CV] algorithm=brute, n_neighbors=5, p=2 .............................\n",
      "[CV] . algorithm=brute, n_neighbors=5, p=2, score=0.908, total=   0.1s\n",
      "[CV] algorithm=brute, n_neighbors=5, p=2 .............................\n",
      "[CV] . algorithm=brute, n_neighbors=5, p=2, score=0.929, total=   0.2s\n",
      "[CV] algorithm=brute, n_neighbors=5, p=3 .............................\n",
      "[CV] . algorithm=brute, n_neighbors=5, p=3, score=0.913, total=   2.9s\n",
      "[CV] algorithm=brute, n_neighbors=5, p=3 .............................\n",
      "[CV] . algorithm=brute, n_neighbors=5, p=3, score=0.888, total=   3.1s\n",
      "[CV] algorithm=brute, n_neighbors=5, p=3 .............................\n",
      "[CV] . algorithm=brute, n_neighbors=5, p=3, score=0.905, total=   2.7s\n",
      "[CV] algorithm=brute, n_neighbors=5, p=3 .............................\n",
      "[CV] . algorithm=brute, n_neighbors=5, p=3, score=0.878, total=   2.6s\n",
      "[CV] algorithm=brute, n_neighbors=5, p=3 .............................\n",
      "[CV] . algorithm=brute, n_neighbors=5, p=3, score=0.903, total=   2.7s\n",
      "[CV] algorithm=brute, n_neighbors=5, p=3 .............................\n"
     ]
    },
    {
     "name": "stdout",
     "output_type": "stream",
     "text": [
      "[CV] . algorithm=brute, n_neighbors=5, p=3, score=0.883, total=   3.2s\n",
      "[CV] algorithm=brute, n_neighbors=5, p=3 .............................\n",
      "[CV] . algorithm=brute, n_neighbors=5, p=3, score=0.893, total=   3.2s\n",
      "[CV] algorithm=brute, n_neighbors=5, p=3 .............................\n",
      "[CV] . algorithm=brute, n_neighbors=5, p=3, score=0.905, total=   2.8s\n",
      "[CV] algorithm=brute, n_neighbors=5, p=3 .............................\n",
      "[CV] . algorithm=brute, n_neighbors=5, p=3, score=0.893, total=   2.7s\n",
      "[CV] algorithm=brute, n_neighbors=5, p=3 .............................\n",
      "[CV] . algorithm=brute, n_neighbors=5, p=3, score=0.910, total=   2.8s\n",
      "[CV] algorithm=brute, n_neighbors=9, p=1 .............................\n",
      "[CV] . algorithm=brute, n_neighbors=9, p=1, score=0.932, total=   0.2s\n",
      "[CV] algorithm=brute, n_neighbors=9, p=1 .............................\n",
      "[CV] . algorithm=brute, n_neighbors=9, p=1, score=0.888, total=   0.2s\n",
      "[CV] algorithm=brute, n_neighbors=9, p=1 .............................\n",
      "[CV] . algorithm=brute, n_neighbors=9, p=1, score=0.915, total=   0.2s\n",
      "[CV] algorithm=brute, n_neighbors=9, p=1 .............................\n",
      "[CV] . algorithm=brute, n_neighbors=9, p=1, score=0.891, total=   0.1s\n",
      "[CV] algorithm=brute, n_neighbors=9, p=1 .............................\n",
      "[CV] . algorithm=brute, n_neighbors=9, p=1, score=0.910, total=   0.1s\n",
      "[CV] algorithm=brute, n_neighbors=9, p=1 .............................\n",
      "[CV] . algorithm=brute, n_neighbors=9, p=1, score=0.898, total=   0.1s\n",
      "[CV] algorithm=brute, n_neighbors=9, p=1 .............................\n",
      "[CV] . algorithm=brute, n_neighbors=9, p=1, score=0.917, total=   0.1s\n",
      "[CV] algorithm=brute, n_neighbors=9, p=1 .............................\n",
      "[CV] . algorithm=brute, n_neighbors=9, p=1, score=0.920, total=   0.1s\n",
      "[CV] algorithm=brute, n_neighbors=9, p=1 .............................\n",
      "[CV] . algorithm=brute, n_neighbors=9, p=1, score=0.912, total=   0.1s\n",
      "[CV] algorithm=brute, n_neighbors=9, p=1 .............................\n",
      "[CV] . algorithm=brute, n_neighbors=9, p=1, score=0.927, total=   0.1s\n",
      "[CV] algorithm=brute, n_neighbors=9, p=2 .............................\n",
      "[CV] . algorithm=brute, n_neighbors=9, p=2, score=0.925, total=   0.1s\n",
      "[CV] algorithm=brute, n_neighbors=9, p=2 .............................\n",
      "[CV] . algorithm=brute, n_neighbors=9, p=2, score=0.879, total=   0.1s\n",
      "[CV] algorithm=brute, n_neighbors=9, p=2 .............................\n",
      "[CV] . algorithm=brute, n_neighbors=9, p=2, score=0.908, total=   0.1s\n",
      "[CV] algorithm=brute, n_neighbors=9, p=2 .............................\n",
      "[CV] . algorithm=brute, n_neighbors=9, p=2, score=0.883, total=   0.1s\n",
      "[CV] algorithm=brute, n_neighbors=9, p=2 .............................\n",
      "[CV] . algorithm=brute, n_neighbors=9, p=2, score=0.900, total=   0.1s\n",
      "[CV] algorithm=brute, n_neighbors=9, p=2 .............................\n",
      "[CV] . algorithm=brute, n_neighbors=9, p=2, score=0.888, total=   0.1s\n",
      "[CV] algorithm=brute, n_neighbors=9, p=2 .............................\n",
      "[CV] . algorithm=brute, n_neighbors=9, p=2, score=0.908, total=   0.1s\n",
      "[CV] algorithm=brute, n_neighbors=9, p=2 .............................\n",
      "[CV] . algorithm=brute, n_neighbors=9, p=2, score=0.895, total=   0.1s\n",
      "[CV] algorithm=brute, n_neighbors=9, p=2 .............................\n",
      "[CV] . algorithm=brute, n_neighbors=9, p=2, score=0.891, total=   0.1s\n",
      "[CV] algorithm=brute, n_neighbors=9, p=2 .............................\n",
      "[CV] . algorithm=brute, n_neighbors=9, p=2, score=0.912, total=   0.1s\n",
      "[CV] algorithm=brute, n_neighbors=9, p=3 .............................\n",
      "[CV] . algorithm=brute, n_neighbors=9, p=3, score=0.905, total=   2.7s\n",
      "[CV] algorithm=brute, n_neighbors=9, p=3 .............................\n",
      "[CV] . algorithm=brute, n_neighbors=9, p=3, score=0.867, total=   2.8s\n",
      "[CV] algorithm=brute, n_neighbors=9, p=3 .............................\n",
      "[CV] . algorithm=brute, n_neighbors=9, p=3, score=0.891, total=   2.7s\n",
      "[CV] algorithm=brute, n_neighbors=9, p=3 .............................\n",
      "[CV] . algorithm=brute, n_neighbors=9, p=3, score=0.876, total=   2.9s\n",
      "[CV] algorithm=brute, n_neighbors=9, p=3 .............................\n",
      "[CV] . algorithm=brute, n_neighbors=9, p=3, score=0.891, total=   2.7s\n",
      "[CV] algorithm=brute, n_neighbors=9, p=3 .............................\n",
      "[CV] . algorithm=brute, n_neighbors=9, p=3, score=0.871, total=   3.0s\n",
      "[CV] algorithm=brute, n_neighbors=9, p=3 .............................\n",
      "[CV] . algorithm=brute, n_neighbors=9, p=3, score=0.893, total=   3.3s\n",
      "[CV] algorithm=brute, n_neighbors=9, p=3 .............................\n",
      "[CV] . algorithm=brute, n_neighbors=9, p=3, score=0.891, total=   2.7s\n",
      "[CV] algorithm=brute, n_neighbors=9, p=3 .............................\n",
      "[CV] . algorithm=brute, n_neighbors=9, p=3, score=0.869, total=   2.8s\n",
      "[CV] algorithm=brute, n_neighbors=9, p=3 .............................\n",
      "[CV] . algorithm=brute, n_neighbors=9, p=3, score=0.876, total=   3.0s\n",
      "[CV] algorithm=brute, n_neighbors=15, p=1 ............................\n",
      "[CV]  algorithm=brute, n_neighbors=15, p=1, score=0.920, total=   0.2s\n",
      "[CV] algorithm=brute, n_neighbors=15, p=1 ............................\n",
      "[CV]  algorithm=brute, n_neighbors=15, p=1, score=0.881, total=   0.2s\n",
      "[CV] algorithm=brute, n_neighbors=15, p=1 ............................\n",
      "[CV]  algorithm=brute, n_neighbors=15, p=1, score=0.903, total=   0.1s\n",
      "[CV] algorithm=brute, n_neighbors=15, p=1 ............................\n",
      "[CV]  algorithm=brute, n_neighbors=15, p=1, score=0.883, total=   0.1s\n",
      "[CV] algorithm=brute, n_neighbors=15, p=1 ............................\n",
      "[CV]  algorithm=brute, n_neighbors=15, p=1, score=0.912, total=   0.1s\n",
      "[CV] algorithm=brute, n_neighbors=15, p=1 ............................\n",
      "[CV]  algorithm=brute, n_neighbors=15, p=1, score=0.886, total=   0.2s\n",
      "[CV] algorithm=brute, n_neighbors=15, p=1 ............................\n",
      "[CV]  algorithm=brute, n_neighbors=15, p=1, score=0.912, total=   0.1s\n",
      "[CV] algorithm=brute, n_neighbors=15, p=1 ............................\n",
      "[CV]  algorithm=brute, n_neighbors=15, p=1, score=0.895, total=   0.1s\n",
      "[CV] algorithm=brute, n_neighbors=15, p=1 ............................\n",
      "[CV]  algorithm=brute, n_neighbors=15, p=1, score=0.903, total=   0.1s\n",
      "[CV] algorithm=brute, n_neighbors=15, p=1 ............................\n",
      "[CV]  algorithm=brute, n_neighbors=15, p=1, score=0.898, total=   0.1s\n",
      "[CV] algorithm=brute, n_neighbors=15, p=2 ............................\n",
      "[CV]  algorithm=brute, n_neighbors=15, p=2, score=0.896, total=   0.1s\n",
      "[CV] algorithm=brute, n_neighbors=15, p=2 ............................\n",
      "[CV]  algorithm=brute, n_neighbors=15, p=2, score=0.867, total=   0.1s\n",
      "[CV] algorithm=brute, n_neighbors=15, p=2 ............................\n",
      "[CV]  algorithm=brute, n_neighbors=15, p=2, score=0.893, total=   0.1s\n",
      "[CV] algorithm=brute, n_neighbors=15, p=2 ............................\n",
      "[CV]  algorithm=brute, n_neighbors=15, p=2, score=0.873, total=   0.1s\n",
      "[CV] algorithm=brute, n_neighbors=15, p=2 ............................\n",
      "[CV]  algorithm=brute, n_neighbors=15, p=2, score=0.883, total=   0.1s\n",
      "[CV] algorithm=brute, n_neighbors=15, p=2 ............................\n",
      "[CV]  algorithm=brute, n_neighbors=15, p=2, score=0.869, total=   0.1s\n",
      "[CV] algorithm=brute, n_neighbors=15, p=2 ............................\n",
      "[CV]  algorithm=brute, n_neighbors=15, p=2, score=0.893, total=   0.1s\n",
      "[CV] algorithm=brute, n_neighbors=15, p=2 ............................\n",
      "[CV]  algorithm=brute, n_neighbors=15, p=2, score=0.886, total=   0.1s\n",
      "[CV] algorithm=brute, n_neighbors=15, p=2 ............................\n",
      "[CV]  algorithm=brute, n_neighbors=15, p=2, score=0.883, total=   0.1s\n",
      "[CV] algorithm=brute, n_neighbors=15, p=2 ............................\n",
      "[CV]  algorithm=brute, n_neighbors=15, p=2, score=0.881, total=   0.1s\n",
      "[CV] algorithm=brute, n_neighbors=15, p=3 ............................\n",
      "[CV]  algorithm=brute, n_neighbors=15, p=3, score=0.881, total=   2.8s\n",
      "[CV] algorithm=brute, n_neighbors=15, p=3 ............................\n",
      "[CV]  algorithm=brute, n_neighbors=15, p=3, score=0.850, total=   3.0s\n",
      "[CV] algorithm=brute, n_neighbors=15, p=3 ............................\n",
      "[CV]  algorithm=brute, n_neighbors=15, p=3, score=0.869, total=   2.7s\n",
      "[CV] algorithm=brute, n_neighbors=15, p=3 ............................\n"
     ]
    },
    {
     "name": "stdout",
     "output_type": "stream",
     "text": [
      "[CV]  algorithm=brute, n_neighbors=15, p=3, score=0.864, total=   2.8s\n",
      "[CV] algorithm=brute, n_neighbors=15, p=3 ............................\n",
      "[CV]  algorithm=brute, n_neighbors=15, p=3, score=0.864, total=   2.6s\n",
      "[CV] algorithm=brute, n_neighbors=15, p=3 ............................\n",
      "[CV]  algorithm=brute, n_neighbors=15, p=3, score=0.852, total=   2.9s\n",
      "[CV] algorithm=brute, n_neighbors=15, p=3 ............................\n",
      "[CV]  algorithm=brute, n_neighbors=15, p=3, score=0.878, total=   2.8s\n",
      "[CV] algorithm=brute, n_neighbors=15, p=3 ............................\n",
      "[CV]  algorithm=brute, n_neighbors=15, p=3, score=0.866, total=   3.3s\n",
      "[CV] algorithm=brute, n_neighbors=15, p=3 ............................\n",
      "[CV]  algorithm=brute, n_neighbors=15, p=3, score=0.864, total=   2.9s\n",
      "[CV] algorithm=brute, n_neighbors=15, p=3 ............................\n",
      "[CV]  algorithm=brute, n_neighbors=15, p=3, score=0.852, total=   2.7s\n"
     ]
    },
    {
     "name": "stderr",
     "output_type": "stream",
     "text": [
      "[Parallel(n_jobs=1)]: Done 480 out of 480 | elapsed:  5.9min finished\n"
     ]
    },
    {
     "data": {
      "text/plain": [
       "GridSearchCV(cv=10, estimator=KNeighborsClassifier(),\n",
       "             param_grid={'algorithm': ['auto', 'ball_tree', 'kd_tree', 'brute'],\n",
       "                         'n_neighbors': [3, 5, 9, 15], 'p': [1, 2, 3]},\n",
       "             verbose=10)"
      ]
     },
     "execution_count": 25,
     "metadata": {},
     "output_type": "execute_result"
    }
   ],
   "source": [
    "gs.fit(X_train, y_train)"
   ]
  },
  {
   "cell_type": "code",
   "execution_count": null,
   "metadata": {},
   "outputs": [],
   "source": []
  },
  {
   "cell_type": "code",
   "execution_count": 27,
   "metadata": {},
   "outputs": [
    {
     "name": "stdout",
     "output_type": "stream",
     "text": [
      "KNeighborsClassifier(n_neighbors=3, p=1)\n"
     ]
    }
   ],
   "source": [
    "print(gs.best_estimator_)"
   ]
  },
  {
   "cell_type": "code",
   "execution_count": null,
   "metadata": {},
   "outputs": [],
   "source": []
  },
  {
   "cell_type": "code",
   "execution_count": null,
   "metadata": {},
   "outputs": [],
   "source": []
  },
  {
   "cell_type": "code",
   "execution_count": 28,
   "metadata": {},
   "outputs": [
    {
     "data": {
      "text/plain": [
       "KNeighborsClassifier(n_jobs=1, n_neighbors=3, p=1)"
      ]
     },
     "execution_count": 28,
     "metadata": {},
     "output_type": "execute_result"
    }
   ],
   "source": [
    "new_knn = KNeighborsClassifier(algorithm='auto', leaf_size=30, metric='minkowski',\n",
    "           metric_params=None, n_jobs=1, n_neighbors=3, p=1,\n",
    "           weights='uniform')\n",
    "new_knn.fit(X_train, y_train)"
   ]
  },
  {
   "cell_type": "code",
   "execution_count": null,
   "metadata": {},
   "outputs": [],
   "source": []
  },
  {
   "cell_type": "code",
   "execution_count": 29,
   "metadata": {},
   "outputs": [
    {
     "name": "stdout",
     "output_type": "stream",
     "text": [
      "KNN - fine tuned, got 92.73964832671582% accuracy on the test set.\n"
     ]
    }
   ],
   "source": [
    "print(\"KNN - fine tuned, got {}% accuracy on the test set.\".format(accuracy_score(y_test, new_knn.predict(X_test))*100))"
   ]
  },
  {
   "cell_type": "code",
   "execution_count": null,
   "metadata": {},
   "outputs": [],
   "source": []
  },
  {
   "cell_type": "markdown",
   "metadata": {},
   "source": [
    "#### Step 2.1.2 Logistic Regression"
   ]
  },
  {
   "cell_type": "code",
   "execution_count": 30,
   "metadata": {},
   "outputs": [],
   "source": [
    "from sklearn.linear_model import LogisticRegression"
   ]
  },
  {
   "cell_type": "code",
   "execution_count": null,
   "metadata": {},
   "outputs": [],
   "source": []
  },
  {
   "cell_type": "code",
   "execution_count": 31,
   "metadata": {},
   "outputs": [
    {
     "name": "stderr",
     "output_type": "stream",
     "text": [
      "C:\\Users\\ANUSHA B R\\anaconda3\\lib\\site-packages\\sklearn\\linear_model\\_logistic.py:762: ConvergenceWarning: lbfgs failed to converge (status=1):\n",
      "STOP: TOTAL NO. of ITERATIONS REACHED LIMIT.\n",
      "\n",
      "Increase the number of iterations (max_iter) or scale the data as shown in:\n",
      "    https://scikit-learn.org/stable/modules/preprocessing.html\n",
      "Please also refer to the documentation for alternative solver options:\n",
      "    https://scikit-learn.org/stable/modules/linear_model.html#logistic-regression\n",
      "  n_iter_i = _check_optimize_result(\n"
     ]
    },
    {
     "data": {
      "text/plain": [
       "LogisticRegression()"
      ]
     },
     "execution_count": 31,
     "metadata": {},
     "output_type": "execute_result"
    }
   ],
   "source": [
    "lr = LogisticRegression()\n",
    "lr.fit(X_train, y_train)"
   ]
  },
  {
   "cell_type": "code",
   "execution_count": null,
   "metadata": {},
   "outputs": [],
   "source": []
  },
  {
   "cell_type": "code",
   "execution_count": 32,
   "metadata": {},
   "outputs": [
    {
     "name": "stdout",
     "output_type": "stream",
     "text": [
      "Logistic regression - default, got 96.42654566080544% accuracy on the test set.\n"
     ]
    }
   ],
   "source": [
    "print(\"Logistic regression - default, got {}% accuracy on the test set.\".format(accuracy_score(y_test, lr.predict(X_test))*100))"
   ]
  },
  {
   "cell_type": "code",
   "execution_count": null,
   "metadata": {},
   "outputs": [],
   "source": []
  },
  {
   "cell_type": "code",
   "execution_count": 33,
   "metadata": {},
   "outputs": [
    {
     "name": "stderr",
     "output_type": "stream",
     "text": [
      "C:\\Users\\ANUSHA B R\\anaconda3\\lib\\site-packages\\sklearn\\linear_model\\_logistic.py:762: ConvergenceWarning: lbfgs failed to converge (status=1):\n",
      "STOP: TOTAL NO. of ITERATIONS REACHED LIMIT.\n",
      "\n",
      "Increase the number of iterations (max_iter) or scale the data as shown in:\n",
      "    https://scikit-learn.org/stable/modules/preprocessing.html\n",
      "Please also refer to the documentation for alternative solver options:\n",
      "    https://scikit-learn.org/stable/modules/linear_model.html#logistic-regression\n",
      "  n_iter_i = _check_optimize_result(\n"
     ]
    },
    {
     "data": {
      "text/plain": [
       "LogisticRegression(C=1000)"
      ]
     },
     "execution_count": 33,
     "metadata": {},
     "output_type": "execute_result"
    }
   ],
   "source": [
    "lr_tuned = LogisticRegression(C=1000, penalty='l2')\n",
    "lr_tuned.fit(X_train, y_train)"
   ]
  },
  {
   "cell_type": "code",
   "execution_count": null,
   "metadata": {},
   "outputs": [],
   "source": []
  },
  {
   "cell_type": "code",
   "execution_count": 34,
   "metadata": {},
   "outputs": [
    {
     "name": "stdout",
     "output_type": "stream",
     "text": [
      "Logistic regression - tuned, got 98.07146908678389% accuracy on the test set.\n"
     ]
    }
   ],
   "source": [
    "print(\"Logistic regression - tuned, got {}% accuracy on the test set.\".format(accuracy_score(y_test, lr_tuned.predict(X_test))*100))"
   ]
  },
  {
   "cell_type": "code",
   "execution_count": null,
   "metadata": {},
   "outputs": [],
   "source": []
  },
  {
   "cell_type": "markdown",
   "metadata": {},
   "source": [
    "## Step 2.2 Tree and forest classifiers"
   ]
  },
  {
   "cell_type": "markdown",
   "metadata": {},
   "source": [
    "### Step 2.2.1 Tree Classifier"
   ]
  },
  {
   "cell_type": "code",
   "execution_count": 35,
   "metadata": {},
   "outputs": [],
   "source": [
    "from sklearn.tree import DecisionTreeClassifier"
   ]
  },
  {
   "cell_type": "code",
   "execution_count": null,
   "metadata": {},
   "outputs": [],
   "source": []
  },
  {
   "cell_type": "code",
   "execution_count": 36,
   "metadata": {},
   "outputs": [
    {
     "data": {
      "text/plain": [
       "DecisionTreeClassifier()"
      ]
     },
     "execution_count": 36,
     "metadata": {},
     "output_type": "execute_result"
    }
   ],
   "source": [
    "dtc = DecisionTreeClassifier()\n",
    "dtc.fit(X_train, y_train)"
   ]
  },
  {
   "cell_type": "code",
   "execution_count": null,
   "metadata": {},
   "outputs": [],
   "source": []
  },
  {
   "cell_type": "code",
   "execution_count": 37,
   "metadata": {},
   "outputs": [
    {
     "name": "stdout",
     "output_type": "stream",
     "text": [
      "Decision tree classifier, got 98.86557005104935% accuracy on the test set.\n"
     ]
    }
   ],
   "source": [
    "print(\"Decision tree classifier, got {}% accuracy on the test set.\".format(accuracy_score(y_test, dtc.predict(X_test))*100))"
   ]
  },
  {
   "cell_type": "code",
   "execution_count": null,
   "metadata": {},
   "outputs": [],
   "source": []
  },
  {
   "cell_type": "markdown",
   "metadata": {},
   "source": [
    "### Steo 2.2.2 Forest"
   ]
  },
  {
   "cell_type": "code",
   "execution_count": 38,
   "metadata": {},
   "outputs": [],
   "source": [
    "from sklearn.ensemble import RandomForestClassifier"
   ]
  },
  {
   "cell_type": "code",
   "execution_count": null,
   "metadata": {},
   "outputs": [],
   "source": []
  },
  {
   "cell_type": "code",
   "execution_count": 39,
   "metadata": {},
   "outputs": [
    {
     "data": {
      "text/plain": [
       "RandomForestClassifier(n_estimators=350)"
      ]
     },
     "execution_count": 39,
     "metadata": {},
     "output_type": "execute_result"
    }
   ],
   "source": [
    "rfc = RandomForestClassifier(n_estimators=350)\n",
    "rfc.fit(X_train, y_train)"
   ]
  },
  {
   "cell_type": "code",
   "execution_count": null,
   "metadata": {},
   "outputs": [],
   "source": []
  },
  {
   "cell_type": "code",
   "execution_count": 40,
   "metadata": {},
   "outputs": [
    {
     "name": "stdout",
     "output_type": "stream",
     "text": [
      "Random forest classifier, got 98.97901304594441% accuracy on the test set.\n"
     ]
    }
   ],
   "source": [
    "print(\"Random forest classifier, got {}% accuracy on the test set.\".format(accuracy_score(y_test, rfc.predict(X_test))*100))"
   ]
  },
  {
   "cell_type": "code",
   "execution_count": null,
   "metadata": {},
   "outputs": [],
   "source": []
  },
  {
   "cell_type": "markdown",
   "metadata": {},
   "source": [
    "## Summary:"
   ]
  },
  {
   "cell_type": "markdown",
   "metadata": {},
   "source": [
    "In this task as you can see the best overall performance (accuracy) on the test set had Tree classifier. Right behind it Random Forest Classifier showed great accuracy with 99.04%"
   ]
  },
  {
   "cell_type": "code",
   "execution_count": 41,
   "metadata": {},
   "outputs": [],
   "source": [
    "accuracy_tree = cross_val_score(dtc, scled_features, labels, scoring='accuracy', cv=10)"
   ]
  },
  {
   "cell_type": "code",
   "execution_count": null,
   "metadata": {},
   "outputs": [],
   "source": []
  },
  {
   "cell_type": "code",
   "execution_count": 42,
   "metadata": {},
   "outputs": [
    {
     "name": "stdout",
     "output_type": "stream",
     "text": [
      "99.02971410029089\n"
     ]
    }
   ],
   "source": [
    "print(np.mean(accuracy_tree)*100)"
   ]
  },
  {
   "cell_type": "code",
   "execution_count": null,
   "metadata": {},
   "outputs": [],
   "source": []
  },
  {
   "cell_type": "markdown",
   "metadata": {},
   "source": [
    "To be sure we tested the algorithm with best performance on cross_validation on WHOLE dataset. Performance is pretty good, right :)"
   ]
  }
 ],
 "metadata": {
  "kernelspec": {
   "display_name": "Python 3",
   "language": "python",
   "name": "python3"
  },
  "language_info": {
   "codemirror_mode": {
    "name": "ipython",
    "version": 3
   },
   "file_extension": ".py",
   "mimetype": "text/x-python",
   "name": "python",
   "nbconvert_exporter": "python",
   "pygments_lexer": "ipython3",
   "version": "3.8.3"
  }
 },
 "nbformat": 4,
 "nbformat_minor": 1
}
