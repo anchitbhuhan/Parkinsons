{
 "cells": [
  {
   "cell_type": "code",
   "execution_count": 2,
   "metadata": {},
   "outputs": [
    {
     "name": "stdout",
     "output_type": "stream",
     "text": [
      "Intercept: \n",
      " 32.79897328428912\n",
      "Coefficients: \n",
      " [ 0.00000000e+00  4.09032720e+01 -4.35298980e-01  9.60038760e+00\n",
      "  1.62131385e+00 -2.12936404e-02]\n",
      "Predicted total UPDRS: \n",
      " [66.73463002]\n",
      "                            OLS Regression Results                            \n",
      "==============================================================================\n",
      "Dep. Variable:            total_UPDRS   R-squared:                       0.031\n",
      "Model:                            OLS   Adj. R-squared:                  0.030\n",
      "Method:                 Least Squares   F-statistic:                     93.02\n",
      "Date:                Wed, 19 Aug 2020   Prob (F-statistic):           1.69e-40\n",
      "Time:                        23:40:09   Log-Likelihood:                -22169.\n",
      "No. Observations:                5875   AIC:                         4.434e+04\n",
      "Df Residuals:                    5872   BIC:                         4.436e+04\n",
      "Df Model:                           2                                         \n",
      "Covariance Type:            nonrobust                                         \n",
      "==============================================================================\n",
      "                 coef    std err          t      P>|t|      [0.025      0.975]\n",
      "------------------------------------------------------------------------------\n",
      "const         28.8081      1.336     21.566      0.000      26.189      31.427\n",
      "RPDE           9.3760      1.810      5.180      0.000       5.828      12.924\n",
      "HNR           -0.2588      0.043     -6.076      0.000      -0.342      -0.175\n",
      "==============================================================================\n",
      "Omnibus:                      183.443   Durbin-Watson:                   0.063\n",
      "Prob(Omnibus):                  0.000   Jarque-Bera (JB):              171.482\n",
      "Skew:                           0.371   Prob(JB):                     5.80e-38\n",
      "Kurtosis:                       2.614   Cond. No.                         269.\n",
      "==============================================================================\n",
      "\n",
      "Warnings:\n",
      "[1] Standard Errors assume that the covariance matrix of the errors is correctly specified.\n"
     ]
    }
   ],
   "source": [
    "# First Model\n",
    "import numpy as np\n",
    "import matplotlib.pyplot as plt\n",
    "import pandas as pd\n",
    "from sklearn.model_selection import train_test_split\n",
    "from mpl_toolkits import mplot3d\n",
    "from sklearn import linear_model\n",
    "import statsmodels.api as sm\n",
    "from sklearn.preprocessing import PolynomialFeatures\n",
    "\n",
    "\n",
    "data = pd.read_csv(\"parkinsons_updrs.data.csv\")\n",
    "X1 = data['RPDE']\n",
    "X2 = data['HNR']\n",
    "\n",
    "X1 = np.array((X1 - X1.min())-(X1.max() - X1.min()))\n",
    "X2 = np.array((X2 - X2.min())-(X2.max() - X2.min()))\n",
    "\n",
    "data['RPDE'] = X1\n",
    "data['HNR'] = X2\n",
    "\n",
    "Xx = data[['RPDE','HNR']]\n",
    "Yy = data['total_UPDRS']\n",
    "\n",
    "poly = PolynomialFeatures(degree=2)\n",
    "X_ = poly.fit_transform(Xx) \n",
    "\n",
    "regrr = linear_model.LinearRegression()\n",
    "regrr.fit(X_, Yy)\n",
    "\n",
    "print('Intercept: \\n', regrr.intercept_)\n",
    "print('Coefficients: \\n', regrr.coef_)\n",
    "\n",
    "\n",
    "RPDE = 0.7\n",
    "HNR = 0.88\n",
    "print ('Predicted total UPDRS: \\n', regrr.predict(poly.fit_transform([[RPDE,HNR]])))\n",
    "\n",
    "\n",
    "Xx = sm.add_constant(Xx)\n",
    " \n",
    "model = sm.OLS(Yy, Xx).fit()\n",
    "predictions = model.predict(Xx) \n",
    " \n",
    "print_model = model.summary()\n",
    "print(print_model)"
   ]
  },
  {
   "cell_type": "code",
   "execution_count": null,
   "metadata": {},
   "outputs": [],
   "source": []
  },
  {
   "cell_type": "code",
   "execution_count": null,
   "metadata": {},
   "outputs": [],
   "source": []
  }
 ],
 "metadata": {
  "kernelspec": {
   "display_name": "Python 3",
   "language": "python",
   "name": "python3"
  },
  "language_info": {
   "codemirror_mode": {
    "name": "ipython",
    "version": 3
   },
   "file_extension": ".py",
   "mimetype": "text/x-python",
   "name": "python",
   "nbconvert_exporter": "python",
   "pygments_lexer": "ipython3",
   "version": "3.7.6"
  }
 },
 "nbformat": 4,
 "nbformat_minor": 4
}
